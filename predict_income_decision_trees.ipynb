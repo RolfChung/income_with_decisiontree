{
 "cells": [
  {
   "cell_type": "markdown",
   "metadata": {},
   "source": [
    "## Summary\n",
    "\n",
    "This codes creates a decision tree, which rests on the <a href= \"https://en.wikipedia.org/wiki/ID3_algorithm\">ID3 (Iterative Dichotomiser 3)</a> algorithm. The supervised learning decision tree algorithm enables to make predictions about observations recognizing nonlinear interactions between variables.\n",
    "\n",
    "The predictions made here are \"whether income exceeds $50K/yr based on census data. Also known as \"Census Income\" dataset\". The data set is taken from the <a href = \"http://archive.ics.uci.edu/ml/datasets/Adult\">Center for Machine Learning and Intelligent Systems</a>.\n"
   ]
  },
  {
   "cell_type": "markdown",
   "metadata": {},
   "source": [
    "## Import packages"
   ]
  },
  {
   "cell_type": "code",
   "execution_count": 102,
   "metadata": {},
   "outputs": [],
   "source": [
    "import pandas as pd\n",
    "import matplotlib.pyplot as plt\n",
    "%matplotlib inline\n",
    "from matplotlib.pyplot import cm\n",
    "import seaborn as sns\n",
    "import numpy as np\n",
    "import math\n",
    "\n",
    "plt.rcParams['font.size'] = 11\n",
    "plt.rcParams['font.style'] = 'italic'\n",
    "plt.rcParams['font.family'] = 'monospace'"
   ]
  },
  {
   "cell_type": "markdown",
   "metadata": {},
   "source": [
    "## Import data"
   ]
  },
  {
   "cell_type": "code",
   "execution_count": 103,
   "metadata": {},
   "outputs": [],
   "source": [
    "income = pd.read_csv(\"income.csv\", index_col=False)"
   ]
  },
  {
   "cell_type": "markdown",
   "metadata": {},
   "source": [
    "## Explore data"
   ]
  },
  {
   "cell_type": "code",
   "execution_count": 104,
   "metadata": {},
   "outputs": [
    {
     "data": {
      "text/html": [
       "<div>\n",
       "<style>\n",
       "    .dataframe thead tr:only-child th {\n",
       "        text-align: right;\n",
       "    }\n",
       "\n",
       "    .dataframe thead th {\n",
       "        text-align: left;\n",
       "    }\n",
       "\n",
       "    .dataframe tbody tr th {\n",
       "        vertical-align: top;\n",
       "    }\n",
       "</style>\n",
       "<table border=\"1\" class=\"dataframe\">\n",
       "  <thead>\n",
       "    <tr style=\"text-align: right;\">\n",
       "      <th></th>\n",
       "      <th>age</th>\n",
       "      <th>workclass</th>\n",
       "      <th>fnlwgt</th>\n",
       "      <th>education</th>\n",
       "      <th>education_num</th>\n",
       "      <th>marital_status</th>\n",
       "      <th>occupation</th>\n",
       "      <th>relationship</th>\n",
       "      <th>race</th>\n",
       "      <th>sex</th>\n",
       "      <th>capital_gain</th>\n",
       "      <th>capital_loss</th>\n",
       "      <th>hours_per_week</th>\n",
       "      <th>native_country</th>\n",
       "      <th>high_income</th>\n",
       "    </tr>\n",
       "  </thead>\n",
       "  <tbody>\n",
       "    <tr>\n",
       "      <th>0</th>\n",
       "      <td>39</td>\n",
       "      <td>State-gov</td>\n",
       "      <td>77516</td>\n",
       "      <td>Bachelors</td>\n",
       "      <td>13</td>\n",
       "      <td>Never-married</td>\n",
       "      <td>Adm-clerical</td>\n",
       "      <td>Not-in-family</td>\n",
       "      <td>White</td>\n",
       "      <td>Male</td>\n",
       "      <td>2174</td>\n",
       "      <td>0</td>\n",
       "      <td>40</td>\n",
       "      <td>United-States</td>\n",
       "      <td>&lt;=50K</td>\n",
       "    </tr>\n",
       "    <tr>\n",
       "      <th>1</th>\n",
       "      <td>50</td>\n",
       "      <td>Self-emp-not-inc</td>\n",
       "      <td>83311</td>\n",
       "      <td>Bachelors</td>\n",
       "      <td>13</td>\n",
       "      <td>Married-civ-spouse</td>\n",
       "      <td>Exec-managerial</td>\n",
       "      <td>Husband</td>\n",
       "      <td>White</td>\n",
       "      <td>Male</td>\n",
       "      <td>0</td>\n",
       "      <td>0</td>\n",
       "      <td>13</td>\n",
       "      <td>United-States</td>\n",
       "      <td>&lt;=50K</td>\n",
       "    </tr>\n",
       "    <tr>\n",
       "      <th>2</th>\n",
       "      <td>38</td>\n",
       "      <td>Private</td>\n",
       "      <td>215646</td>\n",
       "      <td>HS-grad</td>\n",
       "      <td>9</td>\n",
       "      <td>Divorced</td>\n",
       "      <td>Handlers-cleaners</td>\n",
       "      <td>Not-in-family</td>\n",
       "      <td>White</td>\n",
       "      <td>Male</td>\n",
       "      <td>0</td>\n",
       "      <td>0</td>\n",
       "      <td>40</td>\n",
       "      <td>United-States</td>\n",
       "      <td>&lt;=50K</td>\n",
       "    </tr>\n",
       "  </tbody>\n",
       "</table>\n",
       "</div>"
      ],
      "text/plain": [
       "   age          workclass  fnlwgt   education  education_num  \\\n",
       "0   39          State-gov   77516   Bachelors             13   \n",
       "1   50   Self-emp-not-inc   83311   Bachelors             13   \n",
       "2   38            Private  215646     HS-grad              9   \n",
       "\n",
       "        marital_status          occupation    relationship    race    sex  \\\n",
       "0        Never-married        Adm-clerical   Not-in-family   White   Male   \n",
       "1   Married-civ-spouse     Exec-managerial         Husband   White   Male   \n",
       "2             Divorced   Handlers-cleaners   Not-in-family   White   Male   \n",
       "\n",
       "   capital_gain  capital_loss  hours_per_week  native_country high_income  \n",
       "0          2174             0              40   United-States       <=50K  \n",
       "1             0             0              13   United-States       <=50K  \n",
       "2             0             0              40   United-States       <=50K  "
      ]
     },
     "execution_count": 104,
     "metadata": {},
     "output_type": "execute_result"
    }
   ],
   "source": [
    "income.head(3)"
   ]
  },
  {
   "cell_type": "code",
   "execution_count": 105,
   "metadata": {},
   "outputs": [
    {
     "data": {
      "text/html": [
       "<div>\n",
       "<style>\n",
       "    .dataframe thead tr:only-child th {\n",
       "        text-align: right;\n",
       "    }\n",
       "\n",
       "    .dataframe thead th {\n",
       "        text-align: left;\n",
       "    }\n",
       "\n",
       "    .dataframe tbody tr th {\n",
       "        vertical-align: top;\n",
       "    }\n",
       "</style>\n",
       "<table border=\"1\" class=\"dataframe\">\n",
       "  <thead>\n",
       "    <tr style=\"text-align: right;\">\n",
       "      <th></th>\n",
       "      <th>age</th>\n",
       "      <th>workclass</th>\n",
       "      <th>fnlwgt</th>\n",
       "      <th>education</th>\n",
       "      <th>education_num</th>\n",
       "      <th>marital_status</th>\n",
       "      <th>occupation</th>\n",
       "      <th>relationship</th>\n",
       "      <th>race</th>\n",
       "      <th>sex</th>\n",
       "      <th>capital_gain</th>\n",
       "      <th>capital_loss</th>\n",
       "      <th>hours_per_week</th>\n",
       "      <th>native_country</th>\n",
       "      <th>high_income</th>\n",
       "    </tr>\n",
       "  </thead>\n",
       "  <tbody>\n",
       "    <tr>\n",
       "      <th>32558</th>\n",
       "      <td>58</td>\n",
       "      <td>Private</td>\n",
       "      <td>151910</td>\n",
       "      <td>HS-grad</td>\n",
       "      <td>9</td>\n",
       "      <td>Widowed</td>\n",
       "      <td>Adm-clerical</td>\n",
       "      <td>Unmarried</td>\n",
       "      <td>White</td>\n",
       "      <td>Female</td>\n",
       "      <td>0</td>\n",
       "      <td>0</td>\n",
       "      <td>40</td>\n",
       "      <td>United-States</td>\n",
       "      <td>&lt;=50K</td>\n",
       "    </tr>\n",
       "    <tr>\n",
       "      <th>32559</th>\n",
       "      <td>22</td>\n",
       "      <td>Private</td>\n",
       "      <td>201490</td>\n",
       "      <td>HS-grad</td>\n",
       "      <td>9</td>\n",
       "      <td>Never-married</td>\n",
       "      <td>Adm-clerical</td>\n",
       "      <td>Own-child</td>\n",
       "      <td>White</td>\n",
       "      <td>Male</td>\n",
       "      <td>0</td>\n",
       "      <td>0</td>\n",
       "      <td>20</td>\n",
       "      <td>United-States</td>\n",
       "      <td>&lt;=50K</td>\n",
       "    </tr>\n",
       "    <tr>\n",
       "      <th>32560</th>\n",
       "      <td>52</td>\n",
       "      <td>Self-emp-inc</td>\n",
       "      <td>287927</td>\n",
       "      <td>HS-grad</td>\n",
       "      <td>9</td>\n",
       "      <td>Married-civ-spouse</td>\n",
       "      <td>Exec-managerial</td>\n",
       "      <td>Wife</td>\n",
       "      <td>White</td>\n",
       "      <td>Female</td>\n",
       "      <td>15024</td>\n",
       "      <td>0</td>\n",
       "      <td>40</td>\n",
       "      <td>United-States</td>\n",
       "      <td>&gt;50K</td>\n",
       "    </tr>\n",
       "  </tbody>\n",
       "</table>\n",
       "</div>"
      ],
      "text/plain": [
       "       age      workclass  fnlwgt education  education_num  \\\n",
       "32558   58        Private  151910   HS-grad              9   \n",
       "32559   22        Private  201490   HS-grad              9   \n",
       "32560   52   Self-emp-inc  287927   HS-grad              9   \n",
       "\n",
       "            marital_status        occupation relationship    race      sex  \\\n",
       "32558              Widowed      Adm-clerical    Unmarried   White   Female   \n",
       "32559        Never-married      Adm-clerical    Own-child   White     Male   \n",
       "32560   Married-civ-spouse   Exec-managerial         Wife   White   Female   \n",
       "\n",
       "       capital_gain  capital_loss  hours_per_week  native_country high_income  \n",
       "32558             0             0              40   United-States       <=50K  \n",
       "32559             0             0              20   United-States       <=50K  \n",
       "32560         15024             0              40   United-States        >50K  "
      ]
     },
     "execution_count": 105,
     "metadata": {},
     "output_type": "execute_result"
    }
   ],
   "source": [
    "income.tail(3)"
   ]
  },
  {
   "cell_type": "code",
   "execution_count": 106,
   "metadata": {},
   "outputs": [
    {
     "data": {
      "text/plain": [
       "(32561, 15)"
      ]
     },
     "execution_count": 106,
     "metadata": {},
     "output_type": "execute_result"
    }
   ],
   "source": [
    "income.shape"
   ]
  },
  {
   "cell_type": "code",
   "execution_count": 107,
   "metadata": {},
   "outputs": [
    {
     "data": {
      "text/plain": [
       "Index(['age', 'workclass', 'fnlwgt', 'education', 'education_num',\n",
       "       'marital_status', 'occupation', 'relationship', 'race', 'sex',\n",
       "       'capital_gain', 'capital_loss', 'hours_per_week', 'native_country',\n",
       "       'high_income'],\n",
       "      dtype='object')"
      ]
     },
     "execution_count": 107,
     "metadata": {},
     "output_type": "execute_result"
    }
   ],
   "source": [
    "income.columns"
   ]
  },
  {
   "cell_type": "code",
   "execution_count": 108,
   "metadata": {},
   "outputs": [
    {
     "data": {
      "text/plain": [
       "RangeIndex(start=0, stop=32561, step=1)"
      ]
     },
     "execution_count": 108,
     "metadata": {},
     "output_type": "execute_result"
    }
   ],
   "source": [
    "income.index"
   ]
  },
  {
   "cell_type": "code",
   "execution_count": 109,
   "metadata": {},
   "outputs": [
    {
     "data": {
      "text/plain": [
       "age                int64\n",
       "workclass         object\n",
       "fnlwgt             int64\n",
       "education         object\n",
       "education_num      int64\n",
       "marital_status    object\n",
       "occupation        object\n",
       "relationship      object\n",
       "race              object\n",
       "sex               object\n",
       "capital_gain       int64\n",
       "capital_loss       int64\n",
       "hours_per_week     int64\n",
       "native_country    object\n",
       "high_income       object\n",
       "dtype: object"
      ]
     },
     "execution_count": 109,
     "metadata": {},
     "output_type": "execute_result"
    }
   ],
   "source": [
    "income.dtypes"
   ]
  },
  {
   "cell_type": "code",
   "execution_count": 110,
   "metadata": {},
   "outputs": [
    {
     "name": "stdout",
     "output_type": "stream",
     "text": [
      "<class 'pandas.core.frame.DataFrame'>\n",
      "RangeIndex: 32561 entries, 0 to 32560\n",
      "Data columns (total 15 columns):\n",
      "age               32561 non-null int64\n",
      "workclass         32561 non-null object\n",
      "fnlwgt            32561 non-null int64\n",
      "education         32561 non-null object\n",
      "education_num     32561 non-null int64\n",
      "marital_status    32561 non-null object\n",
      "occupation        32561 non-null object\n",
      "relationship      32561 non-null object\n",
      "race              32561 non-null object\n",
      "sex               32561 non-null object\n",
      "capital_gain      32561 non-null int64\n",
      "capital_loss      32561 non-null int64\n",
      "hours_per_week    32561 non-null int64\n",
      "native_country    32561 non-null object\n",
      "high_income       32561 non-null object\n",
      "dtypes: int64(6), object(9)\n",
      "memory usage: 3.7+ MB\n"
     ]
    }
   ],
   "source": [
    "income.info()"
   ]
  },
  {
   "cell_type": "code",
   "execution_count": 111,
   "metadata": {},
   "outputs": [
    {
     "data": {
      "text/html": [
       "<div>\n",
       "<style>\n",
       "    .dataframe thead tr:only-child th {\n",
       "        text-align: right;\n",
       "    }\n",
       "\n",
       "    .dataframe thead th {\n",
       "        text-align: left;\n",
       "    }\n",
       "\n",
       "    .dataframe tbody tr th {\n",
       "        vertical-align: top;\n",
       "    }\n",
       "</style>\n",
       "<table border=\"1\" class=\"dataframe\">\n",
       "  <thead>\n",
       "    <tr style=\"text-align: right;\">\n",
       "      <th></th>\n",
       "      <th>age</th>\n",
       "      <th>fnlwgt</th>\n",
       "      <th>education_num</th>\n",
       "      <th>capital_gain</th>\n",
       "      <th>capital_loss</th>\n",
       "      <th>hours_per_week</th>\n",
       "    </tr>\n",
       "  </thead>\n",
       "  <tbody>\n",
       "    <tr>\n",
       "      <th>count</th>\n",
       "      <td>32561.000000</td>\n",
       "      <td>3.256100e+04</td>\n",
       "      <td>32561.000000</td>\n",
       "      <td>32561.000000</td>\n",
       "      <td>32561.000000</td>\n",
       "      <td>32561.000000</td>\n",
       "    </tr>\n",
       "    <tr>\n",
       "      <th>mean</th>\n",
       "      <td>38.581647</td>\n",
       "      <td>1.897784e+05</td>\n",
       "      <td>10.080679</td>\n",
       "      <td>1077.648844</td>\n",
       "      <td>87.303830</td>\n",
       "      <td>40.437456</td>\n",
       "    </tr>\n",
       "    <tr>\n",
       "      <th>std</th>\n",
       "      <td>13.640433</td>\n",
       "      <td>1.055500e+05</td>\n",
       "      <td>2.572720</td>\n",
       "      <td>7385.292085</td>\n",
       "      <td>402.960219</td>\n",
       "      <td>12.347429</td>\n",
       "    </tr>\n",
       "    <tr>\n",
       "      <th>min</th>\n",
       "      <td>17.000000</td>\n",
       "      <td>1.228500e+04</td>\n",
       "      <td>1.000000</td>\n",
       "      <td>0.000000</td>\n",
       "      <td>0.000000</td>\n",
       "      <td>1.000000</td>\n",
       "    </tr>\n",
       "    <tr>\n",
       "      <th>25%</th>\n",
       "      <td>28.000000</td>\n",
       "      <td>1.178270e+05</td>\n",
       "      <td>9.000000</td>\n",
       "      <td>0.000000</td>\n",
       "      <td>0.000000</td>\n",
       "      <td>40.000000</td>\n",
       "    </tr>\n",
       "    <tr>\n",
       "      <th>50%</th>\n",
       "      <td>37.000000</td>\n",
       "      <td>1.783560e+05</td>\n",
       "      <td>10.000000</td>\n",
       "      <td>0.000000</td>\n",
       "      <td>0.000000</td>\n",
       "      <td>40.000000</td>\n",
       "    </tr>\n",
       "    <tr>\n",
       "      <th>75%</th>\n",
       "      <td>48.000000</td>\n",
       "      <td>2.370510e+05</td>\n",
       "      <td>12.000000</td>\n",
       "      <td>0.000000</td>\n",
       "      <td>0.000000</td>\n",
       "      <td>45.000000</td>\n",
       "    </tr>\n",
       "    <tr>\n",
       "      <th>max</th>\n",
       "      <td>90.000000</td>\n",
       "      <td>1.484705e+06</td>\n",
       "      <td>16.000000</td>\n",
       "      <td>99999.000000</td>\n",
       "      <td>4356.000000</td>\n",
       "      <td>99.000000</td>\n",
       "    </tr>\n",
       "  </tbody>\n",
       "</table>\n",
       "</div>"
      ],
      "text/plain": [
       "                age        fnlwgt  education_num  capital_gain  capital_loss  \\\n",
       "count  32561.000000  3.256100e+04   32561.000000  32561.000000  32561.000000   \n",
       "mean      38.581647  1.897784e+05      10.080679   1077.648844     87.303830   \n",
       "std       13.640433  1.055500e+05       2.572720   7385.292085    402.960219   \n",
       "min       17.000000  1.228500e+04       1.000000      0.000000      0.000000   \n",
       "25%       28.000000  1.178270e+05       9.000000      0.000000      0.000000   \n",
       "50%       37.000000  1.783560e+05      10.000000      0.000000      0.000000   \n",
       "75%       48.000000  2.370510e+05      12.000000      0.000000      0.000000   \n",
       "max       90.000000  1.484705e+06      16.000000  99999.000000   4356.000000   \n",
       "\n",
       "       hours_per_week  \n",
       "count    32561.000000  \n",
       "mean        40.437456  \n",
       "std         12.347429  \n",
       "min          1.000000  \n",
       "25%         40.000000  \n",
       "50%         40.000000  \n",
       "75%         45.000000  \n",
       "max         99.000000  "
      ]
     },
     "execution_count": 111,
     "metadata": {},
     "output_type": "execute_result"
    }
   ],
   "source": [
    "income.describe()"
   ]
  },
  {
   "cell_type": "markdown",
   "metadata": {},
   "source": [
    "#### Missing values?"
   ]
  },
  {
   "cell_type": "code",
   "execution_count": 112,
   "metadata": {},
   "outputs": [
    {
     "data": {
      "text/plain": [
       "age               0\n",
       "workclass         0\n",
       "fnlwgt            0\n",
       "education         0\n",
       "education_num     0\n",
       "marital_status    0\n",
       "occupation        0\n",
       "relationship      0\n",
       "race              0\n",
       "sex               0\n",
       "capital_gain      0\n",
       "capital_loss      0\n",
       "hours_per_week    0\n",
       "native_country    0\n",
       "high_income       0\n",
       "dtype: int64"
      ]
     },
     "execution_count": 112,
     "metadata": {},
     "output_type": "execute_result"
    }
   ],
   "source": [
    "income.isnull().sum()"
   ]
  },
  {
   "cell_type": "markdown",
   "metadata": {},
   "source": [
    "#### Data visualizations - numeric variables"
   ]
  },
  {
   "cell_type": "code",
   "execution_count": 113,
   "metadata": {},
   "outputs": [
    {
     "data": {
      "text/html": [
       "<div>\n",
       "<style>\n",
       "    .dataframe thead tr:only-child th {\n",
       "        text-align: right;\n",
       "    }\n",
       "\n",
       "    .dataframe thead th {\n",
       "        text-align: left;\n",
       "    }\n",
       "\n",
       "    .dataframe tbody tr th {\n",
       "        vertical-align: top;\n",
       "    }\n",
       "</style>\n",
       "<table border=\"1\" class=\"dataframe\">\n",
       "  <thead>\n",
       "    <tr style=\"text-align: right;\">\n",
       "      <th></th>\n",
       "      <th>age</th>\n",
       "      <th>fnlwgt</th>\n",
       "      <th>education_num</th>\n",
       "      <th>capital_gain</th>\n",
       "      <th>capital_loss</th>\n",
       "      <th>hours_per_week</th>\n",
       "    </tr>\n",
       "  </thead>\n",
       "  <tbody>\n",
       "    <tr>\n",
       "      <th>0</th>\n",
       "      <td>39</td>\n",
       "      <td>77516</td>\n",
       "      <td>13</td>\n",
       "      <td>2174</td>\n",
       "      <td>0</td>\n",
       "      <td>40</td>\n",
       "    </tr>\n",
       "    <tr>\n",
       "      <th>1</th>\n",
       "      <td>50</td>\n",
       "      <td>83311</td>\n",
       "      <td>13</td>\n",
       "      <td>0</td>\n",
       "      <td>0</td>\n",
       "      <td>13</td>\n",
       "    </tr>\n",
       "    <tr>\n",
       "      <th>2</th>\n",
       "      <td>38</td>\n",
       "      <td>215646</td>\n",
       "      <td>9</td>\n",
       "      <td>0</td>\n",
       "      <td>0</td>\n",
       "      <td>40</td>\n",
       "    </tr>\n",
       "  </tbody>\n",
       "</table>\n",
       "</div>"
      ],
      "text/plain": [
       "   age  fnlwgt  education_num  capital_gain  capital_loss  hours_per_week\n",
       "0   39   77516             13          2174             0              40\n",
       "1   50   83311             13             0             0              13\n",
       "2   38  215646              9             0             0              40"
      ]
     },
     "execution_count": 113,
     "metadata": {},
     "output_type": "execute_result"
    }
   ],
   "source": [
    "income_numerics = income.iloc[:,np.r_[0, 2, 4, 10:13]]\n",
    "income_numerics.head(3)"
   ]
  },
  {
   "cell_type": "code",
   "execution_count": 114,
   "metadata": {},
   "outputs": [
    {
     "data": {
      "image/png": "[encoded data removed]",
      "text/plain": [
       "<Figure size 1080x648 with 6 Axes>"
      ]
     },
     "metadata": {
      "needs_background": "light"
     },
     "output_type": "display_data"
    }
   ],
   "source": [
    "# Prepare color list assign each plot a different color\n",
    "color_list=['#f58231', '#911eb4', '#46f0f0', '#f032e6', '#bcf60c', '#fabebe']\n",
    "\n",
    "np.warnings.filterwarnings('ignore')\n",
    "\n",
    "income_numerics_names=list(income_numerics.columns)\n",
    "\n",
    "fig, axs = plt.subplots(2,3, figsize=(15,9))\n",
    "plt.subplots_adjust(left=0.2, bottom=0.1, right=0.8, top=0.9, wspace=.3, hspace=0.5)\n",
    "\n",
    "axs = axs.ravel()\n",
    "fig.suptitle('Distributions of numeric variables of income')\n",
    "\n",
    "\n",
    "for i in range(0,6):\n",
    "    axs[i].hist(income_numerics.iloc[:,i], color=color_list[i])\n",
    "    axs[i].set_title(income_numerics_names[i])\n",
    "plt.show()"
   ]
  },
  {
   "cell_type": "code",
   "execution_count": 115,
   "metadata": {},
   "outputs": [
    {
     "data": {
      "text/html": [
       "<div>\n",
       "<style>\n",
       "    .dataframe thead tr:only-child th {\n",
       "        text-align: right;\n",
       "    }\n",
       "\n",
       "    .dataframe thead th {\n",
       "        text-align: left;\n",
       "    }\n",
       "\n",
       "    .dataframe tbody tr th {\n",
       "        vertical-align: top;\n",
       "    }\n",
       "</style>\n",
       "<table border=\"1\" class=\"dataframe\">\n",
       "  <thead>\n",
       "    <tr style=\"text-align: right;\">\n",
       "      <th></th>\n",
       "      <th>age</th>\n",
       "      <th>fnlwgt</th>\n",
       "      <th>education_num</th>\n",
       "      <th>capital_gain</th>\n",
       "      <th>capital_loss</th>\n",
       "      <th>hours_per_week</th>\n",
       "    </tr>\n",
       "  </thead>\n",
       "  <tbody>\n",
       "    <tr>\n",
       "      <th>age</th>\n",
       "      <td>1.000000</td>\n",
       "      <td>-0.076646</td>\n",
       "      <td>0.036527</td>\n",
       "      <td>0.077674</td>\n",
       "      <td>0.057775</td>\n",
       "      <td>0.068756</td>\n",
       "    </tr>\n",
       "    <tr>\n",
       "      <th>fnlwgt</th>\n",
       "      <td>-0.076646</td>\n",
       "      <td>1.000000</td>\n",
       "      <td>-0.043195</td>\n",
       "      <td>0.000432</td>\n",
       "      <td>-0.010252</td>\n",
       "      <td>-0.018768</td>\n",
       "    </tr>\n",
       "    <tr>\n",
       "      <th>education_num</th>\n",
       "      <td>0.036527</td>\n",
       "      <td>-0.043195</td>\n",
       "      <td>1.000000</td>\n",
       "      <td>0.122630</td>\n",
       "      <td>0.079923</td>\n",
       "      <td>0.148123</td>\n",
       "    </tr>\n",
       "  </tbody>\n",
       "</table>\n",
       "</div>"
      ],
      "text/plain": [
       "                    age    fnlwgt  education_num  capital_gain  capital_loss  \\\n",
       "age            1.000000 -0.076646       0.036527      0.077674      0.057775   \n",
       "fnlwgt        -0.076646  1.000000      -0.043195      0.000432     -0.010252   \n",
       "education_num  0.036527 -0.043195       1.000000      0.122630      0.079923   \n",
       "\n",
       "               hours_per_week  \n",
       "age                  0.068756  \n",
       "fnlwgt              -0.018768  \n",
       "education_num        0.148123  "
      ]
     },
     "execution_count": 115,
     "metadata": {},
     "output_type": "execute_result"
    }
   ],
   "source": [
    "income_numerics_corr_matrix=income_numerics.corr()\n",
    "income_numerics_corr_matrix.head(3)"
   ]
  },
  {
   "cell_type": "code",
   "execution_count": 116,
   "metadata": {},
   "outputs": [
    {
     "data": {
      "image/png": "[encoded data removed]",
      "text/plain": [
       "<Figure size 720x504 with 2 Axes>"
      ]
     },
     "metadata": {
      "needs_background": "light"
     },
     "output_type": "display_data"
    }
   ],
   "source": [
    "\n",
    "dimensions_1 = (10, 7)\n",
    "fig, ax = plt.subplots(figsize=dimensions_1)\n",
    "\n",
    "ax = sns.heatmap(\n",
    "    income_numerics_corr_matrix, \n",
    "    vmin=-1, vmax=1, center=0,\n",
    "    cmap=\"Set2\",\n",
    "    square=True\n",
    ")\n",
    "ax.set_xticklabels(\n",
    "    ax.get_xticklabels(),\n",
    "    rotation=45,\n",
    "    horizontalalignment='right'\n",
    ");"
   ]
  },
  {
   "cell_type": "markdown",
   "metadata": {},
   "source": [
    "#### Data visualizations - categorical variables"
   ]
  },
  {
   "cell_type": "code",
   "execution_count": 117,
   "metadata": {},
   "outputs": [
    {
     "name": "stdout",
     "output_type": "stream",
     "text": [
      "(32561, 10)\n"
     ]
    },
    {
     "data": {
      "text/html": [
       "<div>\n",
       "<style>\n",
       "    .dataframe thead tr:only-child th {\n",
       "        text-align: right;\n",
       "    }\n",
       "\n",
       "    .dataframe thead th {\n",
       "        text-align: left;\n",
       "    }\n",
       "\n",
       "    .dataframe tbody tr th {\n",
       "        vertical-align: top;\n",
       "    }\n",
       "</style>\n",
       "<table border=\"1\" class=\"dataframe\">\n",
       "  <thead>\n",
       "    <tr style=\"text-align: right;\">\n",
       "      <th></th>\n",
       "      <th>workclass</th>\n",
       "      <th>education</th>\n",
       "      <th>education_num</th>\n",
       "      <th>marital_status</th>\n",
       "      <th>occupation</th>\n",
       "      <th>relationship</th>\n",
       "      <th>race</th>\n",
       "      <th>sex</th>\n",
       "      <th>native_country</th>\n",
       "      <th>high_income</th>\n",
       "    </tr>\n",
       "  </thead>\n",
       "  <tbody>\n",
       "    <tr>\n",
       "      <th>0</th>\n",
       "      <td>State-gov</td>\n",
       "      <td>Bachelors</td>\n",
       "      <td>13</td>\n",
       "      <td>Never-married</td>\n",
       "      <td>Adm-clerical</td>\n",
       "      <td>Not-in-family</td>\n",
       "      <td>White</td>\n",
       "      <td>Male</td>\n",
       "      <td>United-States</td>\n",
       "      <td>&lt;=50K</td>\n",
       "    </tr>\n",
       "    <tr>\n",
       "      <th>1</th>\n",
       "      <td>Self-emp-not-inc</td>\n",
       "      <td>Bachelors</td>\n",
       "      <td>13</td>\n",
       "      <td>Married-civ-spouse</td>\n",
       "      <td>Exec-managerial</td>\n",
       "      <td>Husband</td>\n",
       "      <td>White</td>\n",
       "      <td>Male</td>\n",
       "      <td>United-States</td>\n",
       "      <td>&lt;=50K</td>\n",
       "    </tr>\n",
       "    <tr>\n",
       "      <th>2</th>\n",
       "      <td>Private</td>\n",
       "      <td>HS-grad</td>\n",
       "      <td>9</td>\n",
       "      <td>Divorced</td>\n",
       "      <td>Handlers-cleaners</td>\n",
       "      <td>Not-in-family</td>\n",
       "      <td>White</td>\n",
       "      <td>Male</td>\n",
       "      <td>United-States</td>\n",
       "      <td>&lt;=50K</td>\n",
       "    </tr>\n",
       "  </tbody>\n",
       "</table>\n",
       "</div>"
      ],
      "text/plain": [
       "           workclass   education  education_num       marital_status  \\\n",
       "0          State-gov   Bachelors             13        Never-married   \n",
       "1   Self-emp-not-inc   Bachelors             13   Married-civ-spouse   \n",
       "2            Private     HS-grad              9             Divorced   \n",
       "\n",
       "           occupation    relationship    race    sex  native_country  \\\n",
       "0        Adm-clerical   Not-in-family   White   Male   United-States   \n",
       "1     Exec-managerial         Husband   White   Male   United-States   \n",
       "2   Handlers-cleaners   Not-in-family   White   Male   United-States   \n",
       "\n",
       "  high_income  \n",
       "0       <=50K  \n",
       "1       <=50K  \n",
       "2       <=50K  "
      ]
     },
     "execution_count": 117,
     "metadata": {},
     "output_type": "execute_result"
    }
   ],
   "source": [
    "income_cat = income.iloc[:,np.r_[1, 3, 4:10, 13:15]]\n",
    "print(income_cat.shape)\n",
    "income_cat.head(3)"
   ]
  },
  {
   "cell_type": "code",
   "execution_count": 118,
   "metadata": {},
   "outputs": [
    {
     "data": {
      "text/plain": [
       " <=50K    24720\n",
       " >50K      7841\n",
       "Name: high_income, dtype: int64"
      ]
     },
     "execution_count": 118,
     "metadata": {},
     "output_type": "execute_result"
    }
   ],
   "source": [
    "income['high_income'].value_counts()"
   ]
  },
  {
   "cell_type": "code",
   "execution_count": 119,
   "metadata": {},
   "outputs": [
    {
     "data": {
      "text/plain": [
       "<matplotlib.axes._subplots.AxesSubplot at 0x1e8b53e47f0>"
      ]
     },
     "execution_count": 119,
     "metadata": {},
     "output_type": "execute_result"
    },
    {
     "data": {
      "image/png": "[encoded data removed]",
      "text/plain": [
       "<Figure size 432x288 with 1 Axes>"
      ]
     },
     "metadata": {
      "needs_background": "light"
     },
     "output_type": "display_data"
    }
   ],
   "source": [
    "income['high_income'].value_counts().plot(kind=\"bar\", color=['#008080', '#911eb4'])"
   ]
  },
  {
   "cell_type": "code",
   "execution_count": 120,
   "metadata": {},
   "outputs": [
    {
     "data": {
      "text/plain": [
       "array([' Bachelors', ' HS-grad', ' 11th', ' Masters', ' 9th',\n",
       "       ' Some-college', ' Assoc-acdm', ' Assoc-voc', ' 7th-8th',\n",
       "       ' Doctorate', ' Prof-school', ' 5th-6th', ' 10th', ' 1st-4th',\n",
       "       ' Preschool', ' 12th'], dtype=object)"
      ]
     },
     "execution_count": 120,
     "metadata": {},
     "output_type": "execute_result"
    }
   ],
   "source": [
    "income_cat.iloc[:,1].unique()"
   ]
  },
  {
   "cell_type": "code",
   "execution_count": 121,
   "metadata": {},
   "outputs": [
    {
     "data": {
      "image/png": "[encoded data removed]",
      "text/plain": [
       "<Figure size 1440x432 with 10 Axes>"
      ]
     },
     "metadata": {
      "needs_background": "light"
     },
     "output_type": "display_data"
    }
   ],
   "source": [
    "# Prepare color list assign each plot a different color\n",
    "color_list=['#f58231', '#911eb4', '#46f0f0', '#f032e6', '#bcf60c', '#fabebe']\n",
    "\n",
    "np.warnings.filterwarnings('ignore')\n",
    "\n",
    "income_cat_names=list(income_cat.columns)\n",
    "\n",
    "fig, axs = plt.subplots(5,2, figsize=(20,6))\n",
    "plt.subplots_adjust(left=0.1, bottom=0.01, right=0.8, top=3, wspace=.5, hspace=0.8)\n",
    "\n",
    "axs = axs.ravel()\n",
    "fig.suptitle('Frequencies of categorical variables of income',  x=0.4, y=-0.4, fontsize=16, fontweight=\"heavy\")\n",
    "\n",
    "\n",
    "for i in range(0,10):\n",
    "    for n in color_list:\n",
    "        # axs[i].bar(x=income_cat.iloc[:,i].unique(), height=income_cat.iloc[:,i], color=color_list[i])\n",
    "        income_cat.iloc[:,i].value_counts().plot(kind=\"bar\", ax=axs[i], color=['#aaffc3', '#808000', '#ffd8b1'],\n",
    "                                                 title=income_cat_names[i], rot=90, fontsize=9)\n",
    "    # axs[i].set_title(income_cat_names[i])\n",
    "plt.show()"
   ]
  },
  {
   "cell_type": "markdown",
   "metadata": {},
   "source": [
    "#### Aggregations"
   ]
  },
  {
   "cell_type": "code",
   "execution_count": 122,
   "metadata": {},
   "outputs": [
    {
     "data": {
      "text/html": [
       "<div>\n",
       "<style>\n",
       "    .dataframe thead tr:only-child th {\n",
       "        text-align: right;\n",
       "    }\n",
       "\n",
       "    .dataframe thead th {\n",
       "        text-align: left;\n",
       "    }\n",
       "\n",
       "    .dataframe tbody tr th {\n",
       "        vertical-align: top;\n",
       "    }\n",
       "</style>\n",
       "<table border=\"1\" class=\"dataframe\">\n",
       "  <thead>\n",
       "    <tr style=\"text-align: right;\">\n",
       "      <th></th>\n",
       "      <th>age</th>\n",
       "      <th>17</th>\n",
       "      <th>18</th>\n",
       "      <th>19</th>\n",
       "      <th>20</th>\n",
       "      <th>21</th>\n",
       "      <th>22</th>\n",
       "      <th>23</th>\n",
       "      <th>24</th>\n",
       "      <th>25</th>\n",
       "      <th>26</th>\n",
       "      <th>...</th>\n",
       "      <th>80</th>\n",
       "      <th>81</th>\n",
       "      <th>82</th>\n",
       "      <th>83</th>\n",
       "      <th>84</th>\n",
       "      <th>85</th>\n",
       "      <th>86</th>\n",
       "      <th>87</th>\n",
       "      <th>88</th>\n",
       "      <th>90</th>\n",
       "    </tr>\n",
       "  </thead>\n",
       "  <tbody>\n",
       "    <tr>\n",
       "      <th rowspan=\"3\" valign=\"top\">capital_gain</th>\n",
       "      <th>mean</th>\n",
       "      <td>109.691139</td>\n",
       "      <td>102.058182</td>\n",
       "      <td>92.092697</td>\n",
       "      <td>82.786189</td>\n",
       "      <td>204.625000</td>\n",
       "      <td>352.631373</td>\n",
       "      <td>103.099202</td>\n",
       "      <td>280.729323</td>\n",
       "      <td>279.297265</td>\n",
       "      <td>341.630573</td>\n",
       "      <td>...</td>\n",
       "      <td>546.090909</td>\n",
       "      <td>249.900000</td>\n",
       "      <td>0.0</td>\n",
       "      <td>3341.833333</td>\n",
       "      <td>0.0</td>\n",
       "      <td>0.0</td>\n",
       "      <td>0.0</td>\n",
       "      <td>0.0</td>\n",
       "      <td>0.0</td>\n",
       "      <td>1935.255814</td>\n",
       "    </tr>\n",
       "    <tr>\n",
       "      <th>std</th>\n",
       "      <td>1722.554867</td>\n",
       "      <td>1478.176635</td>\n",
       "      <td>1412.892408</td>\n",
       "      <td>1282.429902</td>\n",
       "      <td>3751.053585</td>\n",
       "      <td>5176.907626</td>\n",
       "      <td>806.897255</td>\n",
       "      <td>3682.241765</td>\n",
       "      <td>1725.834497</td>\n",
       "      <td>3724.769426</td>\n",
       "      <td>...</td>\n",
       "      <td>2266.637638</td>\n",
       "      <td>782.134051</td>\n",
       "      <td>0.0</td>\n",
       "      <td>8185.786472</td>\n",
       "      <td>0.0</td>\n",
       "      <td>0.0</td>\n",
       "      <td>NaN</td>\n",
       "      <td>NaN</td>\n",
       "      <td>0.0</td>\n",
       "      <td>4863.944554</td>\n",
       "    </tr>\n",
       "    <tr>\n",
       "      <th>median</th>\n",
       "      <td>0.000000</td>\n",
       "      <td>0.000000</td>\n",
       "      <td>0.000000</td>\n",
       "      <td>0.000000</td>\n",
       "      <td>0.000000</td>\n",
       "      <td>0.000000</td>\n",
       "      <td>0.000000</td>\n",
       "      <td>0.000000</td>\n",
       "      <td>0.000000</td>\n",
       "      <td>0.000000</td>\n",
       "      <td>...</td>\n",
       "      <td>0.000000</td>\n",
       "      <td>0.000000</td>\n",
       "      <td>0.0</td>\n",
       "      <td>0.000000</td>\n",
       "      <td>0.0</td>\n",
       "      <td>0.0</td>\n",
       "      <td>0.0</td>\n",
       "      <td>0.0</td>\n",
       "      <td>0.0</td>\n",
       "      <td>0.000000</td>\n",
       "    </tr>\n",
       "  </tbody>\n",
       "</table>\n",
       "<p>3 rows × 73 columns</p>\n",
       "</div>"
      ],
      "text/plain": [
       "age                           17           18           19           20  \\\n",
       "capital_gain mean     109.691139   102.058182    92.092697    82.786189   \n",
       "             std     1722.554867  1478.176635  1412.892408  1282.429902   \n",
       "             median     0.000000     0.000000     0.000000     0.000000   \n",
       "\n",
       "age                           21           22          23           24  \\\n",
       "capital_gain mean     204.625000   352.631373  103.099202   280.729323   \n",
       "             std     3751.053585  5176.907626  806.897255  3682.241765   \n",
       "             median     0.000000     0.000000    0.000000     0.000000   \n",
       "\n",
       "age                           25           26     ...                80  \\\n",
       "capital_gain mean     279.297265   341.630573     ...        546.090909   \n",
       "             std     1725.834497  3724.769426     ...       2266.637638   \n",
       "             median     0.000000     0.000000     ...          0.000000   \n",
       "\n",
       "age                          81   82           83   84   85   86   87   88  \\\n",
       "capital_gain mean    249.900000  0.0  3341.833333  0.0  0.0  0.0  0.0  0.0   \n",
       "             std     782.134051  0.0  8185.786472  0.0  0.0  NaN  NaN  0.0   \n",
       "             median    0.000000  0.0     0.000000  0.0  0.0  0.0  0.0  0.0   \n",
       "\n",
       "age                           90  \n",
       "capital_gain mean    1935.255814  \n",
       "             std     4863.944554  \n",
       "             median     0.000000  \n",
       "\n",
       "[3 rows x 73 columns]"
      ]
     },
     "execution_count": 122,
     "metadata": {},
     "output_type": "execute_result"
    }
   ],
   "source": [
    "income_age = income.groupby('age')[['capital_gain', 'capital_loss', 'hours_per_week']].aggregate([\n",
    "                                    'mean', 'std', 'median', 'min', 'max', 'count']).T\n",
    "\n",
    "income_age.head(3)"
   ]
  },
  {
   "cell_type": "code",
   "execution_count": 123,
   "metadata": {},
   "outputs": [
    {
     "data": {
      "text/plain": [
       "<matplotlib.axes._subplots.AxesSubplot at 0x1e8b5294780>"
      ]
     },
     "execution_count": 123,
     "metadata": {},
     "output_type": "execute_result"
    },
    {
     "data": {
      "image/png": "[encoded data removed]",
      "text/plain": [
       "<Figure size 1800x432 with 1 Axes>"
      ]
     },
     "metadata": {
      "needs_background": "light"
     },
     "output_type": "display_data"
    }
   ],
   "source": [
    "income_age.loc[('capital_gain', 'mean'),:].plot(kind=\"bar\", figsize=(25,6), title=\"Mean capital gain by age\",\n",
    "                                                color=['#e6194b', '#3cb44b', '#ffe119', '#4363d8', '#f58231', '#911eb4', '#46f0f0', '#f032e6'])"
   ]
  },
  {
   "cell_type": "code",
   "execution_count": 124,
   "metadata": {},
   "outputs": [
    {
     "data": {
      "text/plain": [
       "<matplotlib.axes._subplots.AxesSubplot at 0x1e8b1b92eb8>"
      ]
     },
     "execution_count": 124,
     "metadata": {},
     "output_type": "execute_result"
    },
    {
     "data": {
      "image/png": "[encoded data removed]",
      "text/plain": [
       "<Figure size 1800x432 with 1 Axes>"
      ]
     },
     "metadata": {
      "needs_background": "light"
     },
     "output_type": "display_data"
    }
   ],
   "source": [
    "income_age.loc[('hours_per_week', 'mean'),:].plot(kind=\"bar\", figsize=(25,6), title=\"Hours per week by age\",\n",
    "                                                color=['#e6194b', '#3cb44b', '#ffe119', '#4363d8', '#f58231', '#911eb4', '#46f0f0', '#f032e6'])"
   ]
  },
  {
   "cell_type": "markdown",
   "metadata": {},
   "source": [
    "#### Converting categorical variables into numerical variables."
   ]
  },
  {
   "cell_type": "code",
   "execution_count": 125,
   "metadata": {},
   "outputs": [
    {
     "data": {
      "text/plain": [
       "age                int64\n",
       "workclass         object\n",
       "fnlwgt             int64\n",
       "education         object\n",
       "education_num      int64\n",
       "marital_status    object\n",
       "occupation        object\n",
       "relationship      object\n",
       "race              object\n",
       "sex               object\n",
       "capital_gain       int64\n",
       "capital_loss       int64\n",
       "hours_per_week     int64\n",
       "native_country    object\n",
       "high_income       object\n",
       "dtype: object"
      ]
     },
     "execution_count": 125,
     "metadata": {},
     "output_type": "execute_result"
    }
   ],
   "source": [
    "income_2 = income.copy()\n",
    "income_2.dtypes"
   ]
  },
  {
   "cell_type": "code",
   "execution_count": 126,
   "metadata": {},
   "outputs": [
    {
     "name": "stdout",
     "output_type": "stream",
     "text": [
      "0       Male\n",
      "1       Male\n",
      "2       Male\n",
      "3       Male\n",
      "4     Female\n",
      "Name: sex, dtype: object\n",
      "0    1\n",
      "1    1\n",
      "2    1\n",
      "3    1\n",
      "4    0\n",
      "Name: sex, dtype: int8\n"
     ]
    }
   ],
   "source": [
    "numeric_sex = pd.Categorical(income_2.sex)\n",
    "income_2['sex']=numeric_sex.codes\n",
    "print(income.sex.head(5))\n",
    "print(income_2.sex.head(5))"
   ]
  },
  {
   "cell_type": "code",
   "execution_count": 127,
   "metadata": {},
   "outputs": [
    {
     "name": "stdout",
     "output_type": "stream",
     "text": [
      "test\n"
     ]
    }
   ],
   "source": [
    "if type(income_2.loc[5,'race']) == str:\n",
    "    print('test')\n",
    "else:\n",
    "    print('test_2')"
   ]
  },
  {
   "cell_type": "code",
   "execution_count": 128,
   "metadata": {},
   "outputs": [],
   "source": [
    "income_2_names = list(income_2.columns)\n",
    "for name in income_2_names:\n",
    "    if type(income_2.loc[5, name])==str:\n",
    "        numeric = pd.Categorical(income_2.loc[:,name])\n",
    "        income_2[name] = numeric.codes"
   ]
  },
  {
   "cell_type": "code",
   "execution_count": 129,
   "metadata": {},
   "outputs": [
    {
     "name": "stdout",
     "output_type": "stream",
     "text": [
      "age               int64\n",
      "workclass          int8\n",
      "fnlwgt            int64\n",
      "education          int8\n",
      "education_num     int64\n",
      "marital_status     int8\n",
      "occupation         int8\n",
      "relationship       int8\n",
      "race               int8\n",
      "sex                int8\n",
      "capital_gain      int64\n",
      "capital_loss      int64\n",
      "hours_per_week    int64\n",
      "native_country     int8\n",
      "high_income        int8\n",
      "dtype: object\n"
     ]
    }
   ],
   "source": [
    "print(income_2.dtypes)\n",
    "# conversion was successful"
   ]
  },
  {
   "cell_type": "code",
   "execution_count": 130,
   "metadata": {},
   "outputs": [
    {
     "data": {
      "text/html": [
       "<div>\n",
       "<style>\n",
       "    .dataframe thead tr:only-child th {\n",
       "        text-align: right;\n",
       "    }\n",
       "\n",
       "    .dataframe thead th {\n",
       "        text-align: left;\n",
       "    }\n",
       "\n",
       "    .dataframe tbody tr th {\n",
       "        vertical-align: top;\n",
       "    }\n",
       "</style>\n",
       "<table border=\"1\" class=\"dataframe\">\n",
       "  <thead>\n",
       "    <tr style=\"text-align: right;\">\n",
       "      <th></th>\n",
       "      <th>workclass</th>\n",
       "      <th>education</th>\n",
       "      <th>education_num</th>\n",
       "      <th>marital_status</th>\n",
       "      <th>occupation</th>\n",
       "      <th>relationship</th>\n",
       "      <th>race</th>\n",
       "      <th>sex</th>\n",
       "      <th>native_country</th>\n",
       "      <th>high_income</th>\n",
       "    </tr>\n",
       "  </thead>\n",
       "  <tbody>\n",
       "    <tr>\n",
       "      <th>0</th>\n",
       "      <td>7</td>\n",
       "      <td>9</td>\n",
       "      <td>13</td>\n",
       "      <td>4</td>\n",
       "      <td>1</td>\n",
       "      <td>1</td>\n",
       "      <td>4</td>\n",
       "      <td>1</td>\n",
       "      <td>39</td>\n",
       "      <td>0</td>\n",
       "    </tr>\n",
       "    <tr>\n",
       "      <th>1</th>\n",
       "      <td>6</td>\n",
       "      <td>9</td>\n",
       "      <td>13</td>\n",
       "      <td>2</td>\n",
       "      <td>4</td>\n",
       "      <td>0</td>\n",
       "      <td>4</td>\n",
       "      <td>1</td>\n",
       "      <td>39</td>\n",
       "      <td>0</td>\n",
       "    </tr>\n",
       "    <tr>\n",
       "      <th>2</th>\n",
       "      <td>4</td>\n",
       "      <td>11</td>\n",
       "      <td>9</td>\n",
       "      <td>0</td>\n",
       "      <td>6</td>\n",
       "      <td>1</td>\n",
       "      <td>4</td>\n",
       "      <td>1</td>\n",
       "      <td>39</td>\n",
       "      <td>0</td>\n",
       "    </tr>\n",
       "    <tr>\n",
       "      <th>3</th>\n",
       "      <td>4</td>\n",
       "      <td>1</td>\n",
       "      <td>7</td>\n",
       "      <td>2</td>\n",
       "      <td>6</td>\n",
       "      <td>0</td>\n",
       "      <td>2</td>\n",
       "      <td>1</td>\n",
       "      <td>39</td>\n",
       "      <td>0</td>\n",
       "    </tr>\n",
       "  </tbody>\n",
       "</table>\n",
       "</div>"
      ],
      "text/plain": [
       "   workclass  education  education_num  marital_status  occupation  \\\n",
       "0          7          9             13               4           1   \n",
       "1          6          9             13               2           4   \n",
       "2          4         11              9               0           6   \n",
       "3          4          1              7               2           6   \n",
       "\n",
       "   relationship  race  sex  native_country  high_income  \n",
       "0             1     4    1              39            0  \n",
       "1             0     4    1              39            0  \n",
       "2             1     4    1              39            0  \n",
       "3             0     2    1              39            0  "
      ]
     },
     "execution_count": 130,
     "metadata": {},
     "output_type": "execute_result"
    }
   ],
   "source": [
    "income_2.loc[0:3, income_cat.columns]"
   ]
  },
  {
   "cell_type": "markdown",
   "metadata": {},
   "source": [
    "Categorical variables are coded with numbers and not longer with strings."
   ]
  },
  {
   "cell_type": "markdown",
   "metadata": {},
   "source": [
    "#### Simulating splits based on conditions."
   ]
  },
  {
   "cell_type": "markdown",
   "metadata": {},
   "source": [
    "Do people work in the private or public sector?"
   ]
  },
  {
   "cell_type": "code",
   "execution_count": 131,
   "metadata": {},
   "outputs": [
    {
     "data": {
      "text/plain": [
       "(22696, 15)"
      ]
     },
     "execution_count": 131,
     "metadata": {},
     "output_type": "execute_result"
    }
   ],
   "source": [
    "public = income_2.query('workclass==4')\n",
    "public[0:3]['workclass']\n",
    "public.shape"
   ]
  },
  {
   "cell_type": "code",
   "execution_count": 132,
   "metadata": {},
   "outputs": [
    {
     "name": "stdout",
     "output_type": "stream",
     "text": [
      "(9865, 15)\n",
      "32561\n"
     ]
    }
   ],
   "source": [
    "private = income_2.query('workclass !=4')\n",
    "private[0:3]['workclass']\n",
    "print(private.shape)\n",
    "print(income_2.shape[0])"
   ]
  },
  {
   "cell_type": "code",
   "execution_count": 133,
   "metadata": {},
   "outputs": [
    {
     "name": "stdout",
     "output_type": "stream",
     "text": [
      "0.3\n",
      "0.7\n"
     ]
    }
   ],
   "source": [
    "fraction_private = private.shape[0] / income_2.shape[0]\n",
    "print(round(fraction_private,2))\n",
    "\n",
    "fraction_public = public.shape[0] / income_2.shape[0]\n",
    "print(round(fraction_public,2))"
   ]
  },
  {
   "cell_type": "markdown",
   "metadata": {},
   "source": [
    "The probability of working in the private sector is 0.3 . The probability of working in the public sector is 0.7.\n",
    "The probability of working the public sector is higher than working in the private sector at this split."
   ]
  },
  {
   "cell_type": "markdown",
   "metadata": {},
   "source": [
    "Is the person White or not?"
   ]
  },
  {
   "cell_type": "code",
   "execution_count": 134,
   "metadata": {},
   "outputs": [
    {
     "name": "stdout",
     "output_type": "stream",
     "text": [
      "[' White' ' Black' ' Asian-Pac-Islander' ' Amer-Indian-Eskimo' ' Other']\n",
      "[4 2 1 0 3]\n"
     ]
    }
   ],
   "source": [
    "print(income.race.unique())\n",
    "print(income_2.race.unique())\n",
    "\n",
    "white = income_2.query('race==4')\n",
    "not_white = income_2.query('race!=4')    "
   ]
  },
  {
   "cell_type": "markdown",
   "metadata": {},
   "source": [
    "Is the person a man or woman?"
   ]
  },
  {
   "cell_type": "code",
   "execution_count": 135,
   "metadata": {},
   "outputs": [
    {
     "name": "stdout",
     "output_type": "stream",
     "text": [
      "[' Male' ' Female']\n",
      "[1 0]\n"
     ]
    },
    {
     "data": {
      "text/plain": [
       "4    0\n",
       "5    0\n",
       "6    0\n",
       "Name: sex, dtype: int8"
      ]
     },
     "execution_count": 135,
     "metadata": {},
     "output_type": "execute_result"
    }
   ],
   "source": [
    "print(income.sex.unique())\n",
    "print(income_2.sex.unique())\n",
    "man = income_2.query('sex==1')\n",
    "woman = income_2.query('sex==0')\n",
    "woman[0:3]['sex']"
   ]
  },
  {
   "cell_type": "code",
   "execution_count": 136,
   "metadata": {},
   "outputs": [
    {
     "name": "stdout",
     "output_type": "stream",
     "text": [
      "[' <=50K' ' >50K']\n",
      "[0 1]\n",
      "7    1\n",
      "8    1\n",
      "9    1\n",
      "Name: high_income, dtype: int8\n",
      "0    0\n",
      "1    0\n",
      "2    0\n",
      "Name: high_income, dtype: int8\n"
     ]
    }
   ],
   "source": [
    "print(income.high_income.unique())\n",
    "print(income_2.high_income.unique())\n",
    "\n",
    "lower_50k = income_2.query('high_income == 0')\n",
    "higher_50k = income_2.query('high_income == 1')\n",
    "\n",
    "print(higher_50k[0:3]['high_income'])\n",
    "print(lower_50k[0:3]['high_income'])"
   ]
  },
  {
   "cell_type": "code",
   "execution_count": 137,
   "metadata": {},
   "outputs": [
    {
     "name": "stdout",
     "output_type": "stream",
     "text": [
      "0.76\n",
      "0.24\n"
     ]
    }
   ],
   "source": [
    "fraction_lower_50k = lower_50k.shape[0] / income_2.shape[0]\n",
    "print(round(fraction_lower_50k,2))\n",
    "\n",
    "fraction_higher_50k = higher_50k.shape[0] / income_2.shape[0]\n",
    "print(round(fraction_higher_50k,2))"
   ]
  },
  {
   "cell_type": "markdown",
   "metadata": {},
   "source": [
    "The target variable is income below or above 50k. This is the variable to be predicted. The probability of\n",
    "an income lower is 76% and higher only 24%. In this case the probability of the variable 'high_income'\n",
    "is independent of the other variables in the data set. In a decision tree this is not the case. The target \n",
    "variable at the end of the tree at the \"terminal node\" is dependent on other variables beforehand.\n",
    "In this case if the person works in the public sector is non-white or a female. This changes the probability\n",
    "and increases the number of terminal nodes. The prediction is the terminal node with a probability of 1. \n",
    "The question is then how each split moves the tree forward to this prediction or what is the information gain\n",
    "at each node. One way to determine the information gain is based on the <a href=\"https://en.wikipedia.org/wiki/Entropy_%28information_theory%29\">entropy</a> metric."
   ]
  },
  {
   "cell_type": "markdown",
   "metadata": {},
   "source": [
    "#### Calculating entropy - high income"
   ]
  },
  {
   "cell_type": "code",
   "execution_count": 138,
   "metadata": {},
   "outputs": [
    {
     "name": "stdout",
     "output_type": "stream",
     "text": [
      "24720\n",
      "7841\n",
      "32561\n",
      "0.0\n",
      "2.0\n",
      "3.0\n"
     ]
    }
   ],
   "source": [
    "# entropy H or eta is based on frequency probabilities\n",
    "print(lower_50k.shape[0])\n",
    "print(higher_50k.shape[0])\n",
    "print(income.shape[0])\n",
    "\n",
    "print(math.log(1,2))\n",
    "print(math.log(4,2))\n",
    "print(math.log(8,2))"
   ]
  },
  {
   "cell_type": "markdown",
   "metadata": {},
   "source": [
    "Assuming all observations are of low income. Then the uncertainty measured by entropy would be 0. \n",
    "The prediction would always be low income."
   ]
  },
  {
   "cell_type": "code",
   "execution_count": 139,
   "metadata": {},
   "outputs": [
    {
     "name": "stdout",
     "output_type": "stream",
     "text": [
      "0.0\n"
     ]
    }
   ],
   "source": [
    "length_income = income.shape[0]\n",
    "\n",
    "H_all_low_income = (length_income /length_income * math.log(length_income /length_income, 2))\n",
    "print(H_all_low_income )"
   ]
  },
  {
   "cell_type": "markdown",
   "metadata": {},
   "source": [
    "This is here not the case. The frequencies are unequally distributed. This creates uncertainty about\n",
    "the outcomes (or predictions)."
   ]
  },
  {
   "cell_type": "code",
   "execution_count": 140,
   "metadata": {},
   "outputs": [
    {
     "name": "stdout",
     "output_type": "stream",
     "text": [
      "-0.30175258924392045\n",
      "-0.49463136595829277\n",
      "0.7964\n"
     ]
    }
   ],
   "source": [
    "\n",
    "\n",
    "first_term_low = (fraction_lower_50k  * math.log(fraction_lower_50k , 2))\n",
    "print(first_term_low)\n",
    "second_term_high = (fraction_higher_50k * math.log(fraction_higher_50k,2))\n",
    "print(second_term_high)\n",
    "\n",
    "H = -(first_term_low + second_term_high )\n",
    "# the entropy is represented by H or eta\n",
    "print(round(H,4))"
   ]
  },
  {
   "cell_type": "markdown",
   "metadata": {},
   "source": [
    "What is the information gain?<br> For this we will assume a state of total uncertainty about the outcomes,\n",
    "where the entropy H is 1. <br>This is the case when the frequencies of high and low income are equal."
   ]
  },
  {
   "cell_type": "code",
   "execution_count": 141,
   "metadata": {},
   "outputs": [
    {
     "name": "stdout",
     "output_type": "stream",
     "text": [
      "1.0\n"
     ]
    }
   ],
   "source": [
    "H_equal = -(((length_income/2)/length_income * math.log((length_income/2)/length_income, 2)) + \n",
    "            ((length_income/2)/length_income * math.log((length_income/2)/length_income, 2))) \n",
    "\n",
    "print(H_equal )"
   ]
  },
  {
   "cell_type": "markdown",
   "metadata": {},
   "source": [
    "Information gain<br>\n",
    "comparing a state of total uncertainty with an entropy of 1 to a state of diffused uncertainty given an\n",
    "unequal distribution of 24720 people with low income and 7841 of high income generating an entropy of 0.7964.\n",
    "Then the information gain - IG - is simply:"
   ]
  },
  {
   "cell_type": "code",
   "execution_count": 142,
   "metadata": {},
   "outputs": [
    {
     "name": "stdout",
     "output_type": "stream",
     "text": [
      "0.2036\n"
     ]
    }
   ],
   "source": [
    "IG = H_equal - H\n",
    "print(round(IG,4))"
   ]
  },
  {
   "cell_type": "markdown",
   "metadata": {},
   "source": [
    "#### Entropy and information gain for every unique value of a variable caluclated with functions\n",
    "<p>\n",
    "The first functions adjust the entropy for the number of unique values (attributes) and the subsequent\n",
    "function not, which results in an entropy above one.\n",
    "</p>"
   ]
  },
  {
   "cell_type": "code",
   "execution_count": 143,
   "metadata": {},
   "outputs": [],
   "source": [
    "def entropy_ig_k(v, df):\n",
    "    \n",
    "    # https://stats.stackexchange.com/questions/95261/why-am-i-getting-information-entropy-greater-than-1/96461#96461\n",
    "    cat = len(df[v].unique())\n",
    "    \n",
    "    freq_list = []\n",
    "    for i in df[v].unique():\n",
    "        \n",
    "        freq = df[df[v]==i]\n",
    "        freq_list.append(freq)\n",
    "    \n",
    "    length_freq = []\n",
    "    for b in freq_list:\n",
    "        c=b.shape[0]\n",
    "        length_freq.append(c)\n",
    "        \n",
    "    total = sum(length_freq)   # or: df.shape[0] \n",
    "    \n",
    "    term_results = []\n",
    "    for d in length_freq:\n",
    "        fraction = d / total\n",
    "        term=fraction * math.log(fraction, cat)\n",
    "        term_results.append(term)\n",
    "    \n",
    "    entropy = round(-sum(term_results),4)\n",
    "    \n",
    "    IG = 1-entropy\n",
    "    \n",
    "    \n",
    "    return (entropy, IG)"
   ]
  },
  {
   "cell_type": "code",
   "execution_count": 144,
   "metadata": {},
   "outputs": [
    {
     "name": "stdout",
     "output_type": "stream",
     "text": [
      "(0.7964, 0.2036)\n",
      "(0.344, 0.656)\n",
      "(0.9157, 0.08430000000000004)\n",
      "(0.5199, 0.48009999999999997)\n"
     ]
    }
   ],
   "source": [
    "\n",
    "print(entropy_ig_k('high_income', income_2))\n",
    "print(entropy_ig_k('race', income_2))\n",
    "print(entropy_ig_k('sex', income_2))\n",
    "print(entropy_ig_k('workclass', income_2))"
   ]
  },
  {
   "cell_type": "code",
   "execution_count": 145,
   "metadata": {},
   "outputs": [],
   "source": [
    "def entropy_ig(v, df):\n",
    "    \n",
    "    # https://stats.stackexchange.com/questions/95261/why-am-i-getting-information-entropy-greater-than-1/96461#96461\n",
    "    # cat = len(df[v].unique())\n",
    "    \n",
    "    freq_list = []\n",
    "    for i in df[v].unique():\n",
    "        \n",
    "        freq = df[df[v]==i]\n",
    "        freq_list.append(freq)\n",
    "    \n",
    "    length_freq = []\n",
    "    for b in freq_list:\n",
    "        c=b.shape[0]\n",
    "        length_freq.append(c)\n",
    "        \n",
    "    total = sum(length_freq)   # or: df.shape[0] \n",
    "    \n",
    "    term_results = []\n",
    "    for d in length_freq:\n",
    "        fraction = d / total\n",
    "        term=fraction * math.log(fraction, 2)\n",
    "        term_results.append(term)\n",
    "    \n",
    "    entropy = round(-sum(term_results),4)\n",
    "    \n",
    "    IG = 1-entropy\n",
    "    \n",
    "    \n",
    "    return (entropy, IG)"
   ]
  },
  {
   "cell_type": "code",
   "execution_count": 146,
   "metadata": {},
   "outputs": [
    {
     "name": "stdout",
     "output_type": "stream",
     "text": [
      "(0.7964, 0.2036)\n"
     ]
    }
   ],
   "source": [
    "H_high_income = entropy_ig('high_income', income_2)\n",
    "print(H_high_income)\n",
    "# results are same as above"
   ]
  },
  {
   "cell_type": "code",
   "execution_count": 147,
   "metadata": {},
   "outputs": [
    {
     "name": "stdout",
     "output_type": "stream",
     "text": [
      "[4 2 1 0 3]\n"
     ]
    },
    {
     "data": {
      "text/plain": [
       "(0.7987, 0.20130000000000003)"
      ]
     },
     "execution_count": 147,
     "metadata": {},
     "output_type": "execute_result"
    }
   ],
   "source": [
    "print(income_2.race.unique())\n",
    "entropy_ig('race', income_2)"
   ]
  },
  {
   "cell_type": "code",
   "execution_count": 148,
   "metadata": {},
   "outputs": [
    {
     "name": "stdout",
     "output_type": "stream",
     "text": [
      "[4 2 0 3 5 1 6]\n"
     ]
    },
    {
     "data": {
      "text/plain": [
       "(1.8336, -0.8335999999999999)"
      ]
     },
     "execution_count": 148,
     "metadata": {},
     "output_type": "execute_result"
    }
   ],
   "source": [
    "print(income_2.marital_status.unique())\n",
    "entropy_ig('marital_status', income_2)"
   ]
  },
  {
   "cell_type": "code",
   "execution_count": 149,
   "metadata": {},
   "outputs": [
    {
     "name": "stdout",
     "output_type": "stream",
     "text": [
      "[1 0]\n"
     ]
    },
    {
     "data": {
      "text/plain": [
       "(0.9157, 0.08430000000000004)"
      ]
     },
     "execution_count": 149,
     "metadata": {},
     "output_type": "execute_result"
    }
   ],
   "source": [
    "print(income_2.sex.unique())\n",
    "entropy_ig('sex', income_2)"
   ]
  },
  {
   "cell_type": "code",
   "execution_count": 150,
   "metadata": {},
   "outputs": [
    {
     "name": "stdout",
     "output_type": "stream",
     "text": [
      "[7 6 4 1 2 0 5 8 3]\n"
     ]
    },
    {
     "data": {
      "text/plain": [
       "(1.648, -0.6479999999999999)"
      ]
     },
     "execution_count": 150,
     "metadata": {},
     "output_type": "execute_result"
    }
   ],
   "source": [
    "print(income_2.workclass.unique())\n",
    "entropy_ig('workclass', income_2)"
   ]
  },
  {
   "cell_type": "markdown",
   "metadata": {},
   "source": [
    "It seems that race has got the highest information gain."
   ]
  },
  {
   "cell_type": "markdown",
   "metadata": {},
   "source": [
    "#### Entropy variable split by median\n",
    "\n",
    "Instead of splitting on all states or unique values of a variable, which would result in a higher rammifiation of the tree, it is usual to split the tree in two unique values: one unique value above the median and one value below the median."
   ]
  },
  {
   "cell_type": "code",
   "execution_count": 151,
   "metadata": {},
   "outputs": [
    {
     "name": "stdout",
     "output_type": "stream",
     "text": [
      "37.0\n",
      "Index(['age', 'workclass', 'fnlwgt', 'education', 'education_num',\n",
      "       'marital_status', 'occupation', 'relationship', 'race', 'sex',\n",
      "       'capital_gain', 'capital_loss', 'hours_per_week', 'native_country',\n",
      "       'high_income', 'split_age'],\n",
      "      dtype='object')\n",
      "0    16681\n",
      "1    15880\n",
      "Name: split_age, dtype: int64\n",
      "36    898\n",
      "31    888\n",
      "34    886\n",
      "23    877\n",
      "35    876\n",
      "Name: age, dtype: int64\n",
      "16681\n",
      "   age  workclass  fnlwgt  education  education_num  marital_status  \\\n",
      "0   39          7   77516          9             13               4   \n",
      "1   50          6   83311          9             13               2   \n",
      "2   38          4  215646         11              9               0   \n",
      "3   53          4  234721          1              7               2   \n",
      "4   28          4  338409          9             13               2   \n",
      "\n",
      "   occupation  relationship  race  sex  capital_gain  capital_loss  \\\n",
      "0           1             1     4    1          2174             0   \n",
      "1           4             0     4    1             0             0   \n",
      "2           6             1     4    1             0             0   \n",
      "3           6             0     2    1             0             0   \n",
      "4          10             5     2    0             0             0   \n",
      "\n",
      "   hours_per_week  native_country  high_income  split_age  \n",
      "0              40              39            0          1  \n",
      "1              13              39            0          1  \n",
      "2              40              39            0          1  \n",
      "3              40              39            0          1  \n",
      "4              40               5            0          0  \n"
     ]
    }
   ],
   "source": [
    "income_3 = income_2.copy()\n",
    "median_age = np.median(income_3.age)\n",
    "\n",
    "income_3['split_age'] = np.where(income_3.age <= median_age, 0, 1)\n",
    "\n",
    "\n",
    "print(median_age)\n",
    "print(income_3.columns)\n",
    "print(income_3.split_age.value_counts())\n",
    "print(income_2.age.value_counts()[:5])\n",
    "print(len(income_2.query('age<=37')))\n",
    "print(income_3.head())"
   ]
  },
  {
   "cell_type": "code",
   "execution_count": 152,
   "metadata": {},
   "outputs": [
    {
     "name": "stdout",
     "output_type": "stream",
     "text": [
      "(0.9996, 0.00039999999999995595)\n"
     ]
    }
   ],
   "source": [
    "H_split_age = entropy_ig('split_age', income_3)\n",
    "print(H_split_age)"
   ]
  },
  {
   "cell_type": "markdown",
   "metadata": {},
   "source": [
    "The frequencies are relatively equally distributed on the two branches. Consequently the uncertainty expressed\n",
    "in entropy approaches 1 and the information gain is relatively small."
   ]
  },
  {
   "cell_type": "code",
   "execution_count": 153,
   "metadata": {},
   "outputs": [
    {
     "name": "stdout",
     "output_type": "stream",
     "text": [
      "[' <=50K' ' >50K']\n",
      "[0 1]\n",
      "[1 0]\n"
     ]
    }
   ],
   "source": [
    "print(income.high_income.unique())\n",
    "print(income_2.high_income.unique())\n",
    "# below 50 k is 0\n",
    "# above 50 k is 1\n",
    "print(income_3['split_age'].unique())\n",
    "# below median age is 0\n",
    "# above median age 1"
   ]
  },
  {
   "cell_type": "markdown",
   "metadata": {},
   "source": [
    "#### Contingency"
   ]
  },
  {
   "cell_type": "code",
   "execution_count": 154,
   "metadata": {},
   "outputs": [
    {
     "data": {
      "text/html": [
       "<div>\n",
       "<style>\n",
       "    .dataframe thead tr:only-child th {\n",
       "        text-align: right;\n",
       "    }\n",
       "\n",
       "    .dataframe thead th {\n",
       "        text-align: left;\n",
       "    }\n",
       "\n",
       "    .dataframe tbody tr th {\n",
       "        vertical-align: top;\n",
       "    }\n",
       "</style>\n",
       "<table border=\"1\" class=\"dataframe\">\n",
       "  <thead>\n",
       "    <tr style=\"text-align: right;\">\n",
       "      <th></th>\n",
       "      <th>high_income</th>\n",
       "      <th>split_age</th>\n",
       "    </tr>\n",
       "  </thead>\n",
       "  <tbody>\n",
       "    <tr>\n",
       "      <th>0</th>\n",
       "      <td>0</td>\n",
       "      <td>1</td>\n",
       "    </tr>\n",
       "    <tr>\n",
       "      <th>1</th>\n",
       "      <td>0</td>\n",
       "      <td>1</td>\n",
       "    </tr>\n",
       "    <tr>\n",
       "      <th>2</th>\n",
       "      <td>0</td>\n",
       "      <td>1</td>\n",
       "    </tr>\n",
       "    <tr>\n",
       "      <th>3</th>\n",
       "      <td>0</td>\n",
       "      <td>1</td>\n",
       "    </tr>\n",
       "    <tr>\n",
       "      <th>4</th>\n",
       "      <td>0</td>\n",
       "      <td>0</td>\n",
       "    </tr>\n",
       "  </tbody>\n",
       "</table>\n",
       "</div>"
      ],
      "text/plain": [
       "   high_income  split_age\n",
       "0            0          1\n",
       "1            0          1\n",
       "2            0          1\n",
       "3            0          1\n",
       "4            0          0"
      ]
     },
     "execution_count": 154,
     "metadata": {},
     "output_type": "execute_result"
    }
   ],
   "source": [
    "cont_1 = income_3.loc[:, ['high_income', 'split_age']]\n",
    "cont_1.head()"
   ]
  },
  {
   "cell_type": "code",
   "execution_count": 155,
   "metadata": {},
   "outputs": [],
   "source": [
    "\n",
    "def label_12(row):\n",
    "    if (row['high_income']==0) and (row['split_age'] == 0):\n",
    "        return \"below 50k and below median age\"\n",
    "    elif (row['high_income']==1) and (row['split_age'] == 1):\n",
    "        return \"above 50k and above median age\"\n",
    "    elif (row['high_income']==1) and (row['split_age'] == 0):\n",
    "        return \"above 50k and below median age\"\n",
    "    else:\n",
    "        return \"below 50k and above median age\""
   ]
  },
  {
   "cell_type": "code",
   "execution_count": 156,
   "metadata": {},
   "outputs": [],
   "source": [
    "cont_1['label'] = cont_1.apply(label_12, axis=1)"
   ]
  },
  {
   "cell_type": "code",
   "execution_count": 157,
   "metadata": {},
   "outputs": [],
   "source": [
    "# coding\n",
    "# \"below 50k and below median income\": 1\n",
    "# \"above 50k and above median income\": 2\n",
    "# \"above 50k and below median income\": 3\n",
    "# \"below 50k and above median income\": 4\n",
    "\n",
    "def label_115(row):\n",
    "    if (row['high_income']==0) and (row['split_age'] == 0):\n",
    "        return 1\n",
    "    elif (row['high_income']==1) and (row['split_age'] == 1):\n",
    "        return 2\n",
    "    elif (row['high_income']==1) and (row['split_age'] == 0):\n",
    "        return 3\n",
    "    else:\n",
    "        return 4\n",
    "\n",
    "cont_1['label_code'] = cont_1.apply(label_115, axis=1)"
   ]
  },
  {
   "cell_type": "code",
   "execution_count": 158,
   "metadata": {},
   "outputs": [
    {
     "data": {
      "text/html": [
       "<div>\n",
       "<style>\n",
       "    .dataframe thead tr:only-child th {\n",
       "        text-align: right;\n",
       "    }\n",
       "\n",
       "    .dataframe thead th {\n",
       "        text-align: left;\n",
       "    }\n",
       "\n",
       "    .dataframe tbody tr th {\n",
       "        vertical-align: top;\n",
       "    }\n",
       "</style>\n",
       "<table border=\"1\" class=\"dataframe\">\n",
       "  <thead>\n",
       "    <tr style=\"text-align: right;\">\n",
       "      <th></th>\n",
       "      <th>high_income</th>\n",
       "      <th>split_age</th>\n",
       "      <th>label</th>\n",
       "      <th>label_code</th>\n",
       "    </tr>\n",
       "  </thead>\n",
       "  <tbody>\n",
       "    <tr>\n",
       "      <th>0</th>\n",
       "      <td>0</td>\n",
       "      <td>1</td>\n",
       "      <td>below 50k and above median age</td>\n",
       "      <td>4</td>\n",
       "    </tr>\n",
       "    <tr>\n",
       "      <th>1</th>\n",
       "      <td>0</td>\n",
       "      <td>1</td>\n",
       "      <td>below 50k and above median age</td>\n",
       "      <td>4</td>\n",
       "    </tr>\n",
       "  </tbody>\n",
       "</table>\n",
       "</div>"
      ],
      "text/plain": [
       "   high_income  split_age                           label  label_code\n",
       "0            0          1  below 50k and above median age           4\n",
       "1            0          1  below 50k and above median age           4"
      ]
     },
     "execution_count": 158,
     "metadata": {},
     "output_type": "execute_result"
    }
   ],
   "source": [
    "cont_1.head(2)"
   ]
  },
  {
   "cell_type": "code",
   "execution_count": 159,
   "metadata": {},
   "outputs": [
    {
     "name": "stdout",
     "output_type": "stream",
     "text": [
      "1    14421\n",
      "4    10299\n",
      "2     5581\n",
      "3     2260\n",
      "Name: label_code, dtype: int64\n",
      "below 50k and below median age    14421\n",
      "below 50k and above median age    10299\n",
      "above 50k and above median age     5581\n",
      "above 50k and below median age     2260\n",
      "Name: label, dtype: int64\n"
     ]
    }
   ],
   "source": [
    "# High income dependent on split age\n",
    "print(cont_1['label_code'].value_counts())\n",
    "print(cont_1['label'].value_counts())"
   ]
  },
  {
   "cell_type": "code",
   "execution_count": 160,
   "metadata": {},
   "outputs": [
    {
     "data": {
      "text/html": [
       "<div>\n",
       "<style>\n",
       "    .dataframe thead tr:only-child th {\n",
       "        text-align: right;\n",
       "    }\n",
       "\n",
       "    .dataframe thead th {\n",
       "        text-align: left;\n",
       "    }\n",
       "\n",
       "    .dataframe tbody tr th {\n",
       "        vertical-align: top;\n",
       "    }\n",
       "</style>\n",
       "<table border=\"1\" class=\"dataframe\">\n",
       "  <thead>\n",
       "    <tr style=\"text-align: right;\">\n",
       "      <th>median age</th>\n",
       "      <th>0</th>\n",
       "      <th>1</th>\n",
       "    </tr>\n",
       "    <tr>\n",
       "      <th>50k</th>\n",
       "      <th></th>\n",
       "      <th></th>\n",
       "    </tr>\n",
       "  </thead>\n",
       "  <tbody>\n",
       "    <tr>\n",
       "      <th>0</th>\n",
       "      <td>14421</td>\n",
       "      <td>10299</td>\n",
       "    </tr>\n",
       "    <tr>\n",
       "      <th>1</th>\n",
       "      <td>2260</td>\n",
       "      <td>5581</td>\n",
       "    </tr>\n",
       "  </tbody>\n",
       "</table>\n",
       "</div>"
      ],
      "text/plain": [
       "median age      0      1\n",
       "50k                     \n",
       "0           14421  10299\n",
       "1            2260   5581"
      ]
     },
     "execution_count": 160,
     "metadata": {},
     "output_type": "execute_result"
    }
   ],
   "source": [
    "pd.crosstab(index=income_3.high_income, columns=income_3.split_age, \n",
    "            rownames=['50k'],\n",
    "            colnames=['median age'])\n",
    "\n",
    "# high_income: below 50 k is 0\n",
    "# high_income: above 50 k is 1\n",
    "# split_age: below median age is 0\n",
    "# split_age: above median age 1"
   ]
  },
  {
   "cell_type": "markdown",
   "metadata": {},
   "source": [
    "#### Information gain by split on median\n",
    "\n",
    "The goal of a decision tree is to make a predictions about the target variable (high income). \n",
    "By splitting onto features thereby creating dependent probabilities the quality of predictions can improve. \n",
    "The question is then to find those features, which lead to better performance, makes clearer or purer\n",
    "predictions and reduces entropy from 1 towards 0. Information gain shows the reduction of entropy when\n",
    "splitting on a feature. It is the difference between a given entropy of the target variable and the entropy of the \n",
    "of the target variable depending on the splitting variable."
   ]
  },
  {
   "cell_type": "code",
   "execution_count": 161,
   "metadata": {},
   "outputs": [
    {
     "name": "stdout",
     "output_type": "stream",
     "text": [
      "   high_income  split_age                           label  label_code\n",
      "0            0          1  below 50k and above median age           4\n",
      "1            0          1  below 50k and above median age           4\n",
      "2            0          1  below 50k and above median age           4\n",
      "3            0          1  below 50k and above median age           4\n",
      "4            0          0  below 50k and below median age           1\n",
      "32561\n",
      "0    14421\n",
      "1     2260\n",
      "Name: high_income, dtype: int64\n"
     ]
    }
   ],
   "source": [
    "# target variable: high income - T\n",
    "# split variable: median age - A\n",
    "\n",
    "cont_2 = cont_1.copy()\n",
    "\n",
    "print(cont_2.head())\n",
    "print(cont_2['split_age'].count())\n",
    "\n",
    "cont_2_0 = cont_2.query('split_age==0')[['high_income', 'split_age']]\n",
    "print(cont_2_0.high_income.value_counts())"
   ]
  },
  {
   "cell_type": "markdown",
   "metadata": {},
   "source": [
    "#### Calculating weights of split age\n",
    "\n",
    "The tree is splitted into two branches: below and above median age. The branches have a different \n",
    "number of members. 16681 in below and 15880 in above. Given a total of 32561 this creates different weights."
   ]
  },
  {
   "cell_type": "code",
   "execution_count": 162,
   "metadata": {},
   "outputs": [
    {
     "name": "stdout",
     "output_type": "stream",
     "text": [
      "32561\n"
     ]
    }
   ],
   "source": [
    "# calculating weights of split age\n",
    "# How many observations are there - 32561\n",
    "print(cont_2.shape[0])\n",
    "all_observations_2 = cont_2.shape[0]"
   ]
  },
  {
   "cell_type": "code",
   "execution_count": 163,
   "metadata": {},
   "outputs": [
    {
     "name": "stdout",
     "output_type": "stream",
     "text": [
      "16681\n",
      "15880\n",
      "32561\n"
     ]
    }
   ],
   "source": [
    "# calculating weights of split age\n",
    "# of 32561 observations - how many are below (0) and how many are above (1) median age\n",
    "# below (0) median age: 16681\n",
    "age_0 = cont_2.query('split_age == 0')[['high_income', 'split_age']].reset_index(drop=True)\n",
    "age0_count = age_0.shape[0]\n",
    "\n",
    "# of 32561 observations - how many are below (0) and how many are above (1) median age\n",
    "# above (1) median age: 15880\n",
    "age_1 = cont_2.query('split_age == 1')[['high_income', 'split_age']].reset_index(drop=True)\n",
    "age1_count = age_1.shape[0]\n",
    "\n",
    "print(age0_count)\n",
    "print(age1_count)\n",
    "\n",
    "total_bm = age1_count + age0_count\n",
    "# 14421+2260=16681\n",
    "print(total_bm)"
   ]
  },
  {
   "cell_type": "code",
   "execution_count": 164,
   "metadata": {},
   "outputs": [
    {
     "name": "stdout",
     "output_type": "stream",
     "text": [
      "0.5123\n",
      "0.4877\n"
     ]
    }
   ],
   "source": [
    "# calculating weights of split age\n",
    "# weight = frequency probabilities\n",
    "weight_age_0 = round(age0_count/all_observations_2,4)\n",
    "print(weight_age_0)\n",
    "\n",
    "weight_age_1 = round(age1_count/all_observations_2,4)\n",
    "print(weight_age_1)"
   ]
  },
  {
   "cell_type": "markdown",
   "metadata": {},
   "source": [
    "The weights are similar. This points out to a high entropy of the split age variable."
   ]
  },
  {
   "cell_type": "markdown",
   "metadata": {},
   "source": [
    "#### Calculating entropies based on frequencies \n",
    "\n",
    "Every branch has it's own entropy. By splitting on media age, thus creating two branches, dependent probabilities with\n",
    "different nominators are created (if the frequencies are not equal)."
   ]
  },
  {
   "cell_type": "markdown",
   "metadata": {},
   "source": [
    "First branch: below medium age"
   ]
  },
  {
   "cell_type": "code",
   "execution_count": 165,
   "metadata": {},
   "outputs": [
    {
     "name": "stdout",
     "output_type": "stream",
     "text": [
      "   high_income  split_age\n",
      "0            0          0\n",
      "1            0          0\n",
      "5            0          0\n",
      "6            0          0\n",
      "7            0          0\n",
      "14421\n",
      "0.8645\n"
     ]
    }
   ],
   "source": [
    "# age_0.head()\n",
    "# number people with high income below 50k and and below median age\n",
    "age_0_hi_0 = age_0.query('high_income==0')\n",
    "print(age_0_hi_0.head())\n",
    "print(age_0_hi_0.shape[0])\n",
    "# probability of high income below 50k given below median age = age_0_hi_0 / age0_count\n",
    "p_below_50_med_0 = round(age_0_hi_0.shape[0] / age0_count,4)\n",
    "print(p_below_50_med_0)"
   ]
  },
  {
   "cell_type": "code",
   "execution_count": 166,
   "metadata": {},
   "outputs": [
    {
     "name": "stdout",
     "output_type": "stream",
     "text": [
      "    high_income  split_age\n",
      "2             1          0\n",
      "3             1          0\n",
      "4             1          0\n",
      "18            1          0\n",
      "35            1          0\n",
      "0.1355\n"
     ]
    }
   ],
   "source": [
    "# age_0.head()\n",
    "# number people with high income above 50k and and below median age\n",
    "age_0_hi_1 = age_0.query('high_income==1')\n",
    "print(age_0_hi_1.head())\n",
    "\n",
    "# probability of high income above 50k given below median age = age_0_hi_0 / age0_count\n",
    "p_above_50_med_0 = round(age_0_hi_1.shape[0] / age0_count,4)\n",
    "print(p_above_50_med_0)"
   ]
  },
  {
   "cell_type": "markdown",
   "metadata": {},
   "source": [
    "The tree is splitted into two branches: below median age and above median age. In the branch below median age\n",
    "the probability of high income below 50k is 0.8645 and above is 0.1355. The branch is not totally pure. It\n",
    "does not seperate below and above 50k perfectly. Based on this the entropy can now be caculated for this branch."
   ]
  },
  {
   "cell_type": "markdown",
   "metadata": {},
   "source": [
    "Calculating entropy for the first branch"
   ]
  },
  {
   "cell_type": "code",
   "execution_count": 167,
   "metadata": {},
   "outputs": [
    {
     "name": "stdout",
     "output_type": "stream",
     "text": [
      "-0.18159871226662164\n",
      "-0.3907325754682632\n",
      "0.5723312877348848\n",
      "0.2932\n"
     ]
    }
   ],
   "source": [
    "H_1 = p_below_50_med_0 * math.log(p_below_50_med_0, 2)\n",
    "print(H_1)\n",
    "H_2 = p_above_50_med_0 * math.log(p_above_50_med_0, 2)\n",
    "print(H_2)\n",
    "H_3 = -(H_1+H_2)\n",
    "print(H_3)\n",
    "# Including weight\n",
    "branch1 = round(weight_age_0 * H_3,4)\n",
    "print(branch1)\n"
   ]
  },
  {
   "cell_type": "markdown",
   "metadata": {},
   "source": [
    "The entropy of the first branch with below median age is 0.2932."
   ]
  },
  {
   "cell_type": "markdown",
   "metadata": {},
   "source": [
    "Second branch: above median age"
   ]
  },
  {
   "cell_type": "code",
   "execution_count": 168,
   "metadata": {},
   "outputs": [
    {
     "name": "stdout",
     "output_type": "stream",
     "text": [
      "   high_income  split_age\n",
      "0            0          1\n",
      "1            0          1\n",
      "2            0          1\n",
      "3            0          1\n",
      "4            0          1\n",
      "(15880, 2)\n"
     ]
    }
   ],
   "source": [
    "print(age_1.head())\n",
    "print(age_1.shape)"
   ]
  },
  {
   "cell_type": "code",
   "execution_count": 169,
   "metadata": {},
   "outputs": [
    {
     "name": "stdout",
     "output_type": "stream",
     "text": [
      "   high_income  split_age\n",
      "0            0          1\n",
      "1            0          1\n",
      "2            0          1\n",
      "3            0          1\n",
      "4            0          1\n",
      "10299\n",
      "0.6486\n"
     ]
    }
   ],
   "source": [
    "# age_1.head()\n",
    "# number people with high income below 50k and and above median age\n",
    "age_1_hi_0 = age_1.query('high_income==0')\n",
    "print(age_1_hi_0.head())\n",
    "print(age_1_hi_0.shape[0])\n",
    "# probability of high income below 50k given above median\n",
    "p_below_50_med_1 = round(age_1_hi_0.shape[0] / age_1.shape[0],4)\n",
    "print(p_below_50_med_1)"
   ]
  },
  {
   "cell_type": "code",
   "execution_count": 170,
   "metadata": {},
   "outputs": [
    {
     "name": "stdout",
     "output_type": "stream",
     "text": [
      "    high_income  split_age\n",
      "5             1          1\n",
      "6             1          1\n",
      "7             1          1\n",
      "9             1          1\n",
      "10            1          1\n",
      "5581\n",
      "0.3514\n"
     ]
    }
   ],
   "source": [
    "# number people with high income above 50k and and above median age\n",
    "age_1_hi_1 = age_1.query('high_income==1')\n",
    "print(age_1_hi_1.head())\n",
    "print(age_1_hi_1.shape[0])\n",
    "\n",
    "# probability of high income above 50k given above median age \n",
    "p_above_50_med_1 = round(age_1_hi_1.shape[0] / age1_count,4)\n",
    "print(p_above_50_med_1)\n",
    "# 5581+10299=15880"
   ]
  },
  {
   "cell_type": "markdown",
   "metadata": {},
   "source": [
    "Calculating entropy for the second branch"
   ]
  },
  {
   "cell_type": "code",
   "execution_count": 171,
   "metadata": {},
   "outputs": [
    {
     "name": "stdout",
     "output_type": "stream",
     "text": [
      "-0.18159871226662164\n",
      "-0.3907325754682632\n",
      "0.93531216321567\n",
      "0.4562\n"
     ]
    }
   ],
   "source": [
    "H_4 = p_below_50_med_1 * math.log(p_below_50_med_1, 2)\n",
    "print(H_1)\n",
    "H_5 = p_above_50_med_1 * math.log(p_above_50_med_1, 2)\n",
    "print(H_2)\n",
    "H_6 = -(H_4+H_5)\n",
    "print(H_6)\n",
    "# Including weight\n",
    "branch2 = round(weight_age_1 * H_6,4)\n",
    "print(branch2)"
   ]
  },
  {
   "cell_type": "markdown",
   "metadata": {},
   "source": [
    "Summing entropy for both branches"
   ]
  },
  {
   "cell_type": "code",
   "execution_count": 172,
   "metadata": {},
   "outputs": [
    {
     "name": "stdout",
     "output_type": "stream",
     "text": [
      "0.7494000000000001\n"
     ]
    }
   ],
   "source": [
    "H_hi_given_sa = branch1 + branch2\n",
    "print(H_hi_given_sa)"
   ]
  },
  {
   "cell_type": "markdown",
   "metadata": {},
   "source": [
    "Finally caculating information gain"
   ]
  },
  {
   "cell_type": "code",
   "execution_count": 173,
   "metadata": {},
   "outputs": [
    {
     "name": "stdout",
     "output_type": "stream",
     "text": [
      "0.7964\n"
     ]
    }
   ],
   "source": [
    "# Entropy of the target variable alone\n",
    "print(round(H,4))"
   ]
  },
  {
   "cell_type": "code",
   "execution_count": 174,
   "metadata": {},
   "outputs": [
    {
     "name": "stdout",
     "output_type": "stream",
     "text": [
      "0.047\n"
     ]
    }
   ],
   "source": [
    "IG = round(H - H_hi_given_sa,4)\n",
    "print(IG)"
   ]
  },
  {
   "cell_type": "code",
   "execution_count": 175,
   "metadata": {},
   "outputs": [],
   "source": [
    "def IG(df, target, split):\n",
    "    \n",
    "    #Inputs\n",
    "    # data frame containing the variables\n",
    "    # split: name of variable as str\n",
    "    # target: variable of predictions as str\n",
    "    \n",
    "    parent_entropy,ig = entropy_ig(target, df)\n",
    "    \n",
    "    \n",
    "    # Calc median: needs pd\n",
    "    median = df[split].median()\n",
    "    \n",
    "    # Create a split with two branches based on median\n",
    "    left_split = df[df['age'] <= median].reset_index(drop=True)\n",
    "    right_split = df[df['age'] > median].reset_index(drop=True)\n",
    "    \n",
    "    # Total number of observations\n",
    "    n = df.shape[0]\n",
    "    # Calculate weights\n",
    "    left_weight = left_split.shape[0] / n\n",
    "    right_weight = right_split.shape[0] / n\n",
    "    \n",
    "    # Calculate entropy of left split\n",
    "    left_entropy, ig =  entropy_ig(target, left_split)\n",
    "    left_entropy_weighted = left_weight * left_entropy\n",
    "    \n",
    "    # Calculate entropy of right split\n",
    "    right_entropy, ig =  entropy_ig(target, right_split)\n",
    "    right_entropy_weighted = right_weight * right_entropy\n",
    "    \n",
    "    # Calculate depended entropy\n",
    "    dependent_entropy = left_entropy_weighted + right_entropy_weighted\n",
    "    \n",
    "    information_gain = round(parent_entropy - dependent_entropy, 4)\n",
    "    \n",
    "    \n",
    "    return (information_gain)\n",
    "   \n",
    "\n",
    "\n"
   ]
  },
  {
   "cell_type": "code",
   "execution_count": 176,
   "metadata": {},
   "outputs": [
    {
     "data": {
      "text/plain": [
       "0.047"
      ]
     },
     "execution_count": 176,
     "metadata": {},
     "output_type": "execute_result"
    }
   ],
   "source": [
    "IG(df=income_2, target='high_income', split='age')"
   ]
  },
  {
   "cell_type": "code",
   "execution_count": 177,
   "metadata": {},
   "outputs": [
    {
     "data": {
      "text/plain": [
       "0.0"
      ]
     },
     "execution_count": 177,
     "metadata": {},
     "output_type": "execute_result"
    }
   ],
   "source": [
    "IG(df=income_2, target='high_income', split='marital_status')"
   ]
  },
  {
   "cell_type": "code",
   "execution_count": 178,
   "metadata": {},
   "outputs": [
    {
     "data": {
      "text/plain": [
       "0.0"
      ]
     },
     "execution_count": 178,
     "metadata": {},
     "output_type": "execute_result"
    }
   ],
   "source": [
    "IG(df=income_2, target='high_income', split='sex')"
   ]
  },
  {
   "cell_type": "code",
   "execution_count": 179,
   "metadata": {},
   "outputs": [
    {
     "data": {
      "text/plain": [
       "0.0"
      ]
     },
     "execution_count": 179,
     "metadata": {},
     "output_type": "execute_result"
    }
   ],
   "source": [
    "IG(df=income_2, target='high_income', split='race')"
   ]
  },
  {
   "cell_type": "markdown",
   "metadata": {},
   "source": [
    "The information gain based on this function is the same as the information gain calculated with\n",
    "the step by step approach."
   ]
  },
  {
   "cell_type": "code",
   "execution_count": 180,
   "metadata": {},
   "outputs": [
    {
     "name": "stdout",
     "output_type": "stream",
     "text": [
      "{'age': 0.047, 'workclass': 0.0, 'education_num': 0.0, 'marital_status': 0.0, 'occupation': 0.0, 'relationship': 0.0, 'race': 0.0, 'sex': 0.0, 'hours_per_week': 0.0349, 'native_country': 0.0383}\n"
     ]
    }
   ],
   "source": [
    "columns_97 = [\"age\", \"workclass\", \"education_num\", \"marital_status\", \"occupation\", \"relationship\", \"race\", \"sex\", \"hours_per_week\", \"native_country\"]\n",
    "\n",
    "information_gains_1 = {}\n",
    "\n",
    "for col in columns_97:\n",
    "    ig = IG(df=income_2, target='high_income', split=col)\n",
    "    information_gains_1[col] = ig\n",
    "    \n",
    "print(information_gains_1)\n",
    "    "
   ]
  },
  {
   "cell_type": "code",
   "execution_count": 181,
   "metadata": {},
   "outputs": [
    {
     "name": "stdout",
     "output_type": "stream",
     "text": [
      "age\n",
      "0.047\n"
     ]
    }
   ],
   "source": [
    "max_1 = max(information_gains_1, key=information_gains_1.get)\n",
    "print(max_1)\n",
    "print(information_gains_1[max_1])"
   ]
  },
  {
   "cell_type": "code",
   "execution_count": 182,
   "metadata": {},
   "outputs": [
    {
     "name": "stdout",
     "output_type": "stream",
     "text": [
      "{'age': 0.047, 'workclass': 0.0, 'fnlwgt': 0.0, 'education': 0.0, 'education_num': 0.0, 'marital_status': 0.0, 'occupation': 0.0, 'relationship': 0.0, 'race': 0.0, 'sex': 0.0, 'capital_gain': 0.0, 'capital_loss': 0.0, 'hours_per_week': 0.0349, 'native_country': 0.0383}\n"
     ]
    }
   ],
   "source": [
    "columns_333 = list(income_2.columns)\n",
    "del columns_333[-1]\n",
    "\n",
    "information_gains_2 = {}\n",
    "\n",
    "for col in columns_333:\n",
    "    ig = IG(df=income_2, target='high_income', split=col)\n",
    "    information_gains_2[col] = ig\n",
    "    \n",
    "print(information_gains_2)"
   ]
  },
  {
   "cell_type": "code",
   "execution_count": 183,
   "metadata": {},
   "outputs": [
    {
     "name": "stdout",
     "output_type": "stream",
     "text": [
      "age\n",
      "0.047\n"
     ]
    }
   ],
   "source": [
    "\n",
    "max_2 = max(information_gains_2, key=information_gains_2.get)\n",
    "print(max_2)\n",
    "print(information_gains_2[max_2])\n"
   ]
  },
  {
   "cell_type": "markdown",
   "metadata": {},
   "source": [
    "Splitting on age result in the best information gain, when high income is the target."
   ]
  },
  {
   "cell_type": "markdown",
   "metadata": {},
   "source": [
    "Improving IG function with split variable as a new input (instead of H = 1)"
   ]
  },
  {
   "cell_type": "code",
   "execution_count": 184,
   "metadata": {},
   "outputs": [],
   "source": [
    "def IG_2(df, target, split):\n",
    "    \n",
    "    #Inputs\n",
    "    # data frame containing the variables\n",
    "    # split: name of variable as str\n",
    "    # target: variable of predictions as str\n",
    "    \n",
    "    parent_entropy,ig = entropy_ig(target, df)\n",
    "    \n",
    "    \n",
    "    # Calc median: needs pd\n",
    "    df_variable = df[split]\n",
    "    median = df_variable.median()\n",
    "    \n",
    "    # Create a split with two branches based on median\n",
    "    left_split = df[df_variable <= median].reset_index(drop=True)\n",
    "    right_split = df[df_variable > median].reset_index(drop=True)\n",
    "    \n",
    "    # Total number of observations\n",
    "    n = df.shape[0]\n",
    "    \n",
    "    dependent_entropy=0\n",
    "    \n",
    "    for split in [left_split, right_split]:\n",
    "        weight = (split.shape[0] / n)\n",
    "        entropy, ig = entropy_ig(target, split)\n",
    "        dependent_entropy += weight * entropy\n",
    "    \n",
    "    \n",
    "    information_gain = round(parent_entropy - dependent_entropy, 4)\n",
    "    \n",
    "    \n",
    "    return (information_gain, )\n",
    "   "
   ]
  },
  {
   "cell_type": "code",
   "execution_count": 185,
   "metadata": {},
   "outputs": [
    {
     "name": "stdout",
     "output_type": "stream",
     "text": [
      "{'age': (0.047,), 'workclass': (0.0068,), 'fnlwgt': (0.0002,), 'education': (0.0035,), 'education_num': (0.065,), 'marital_status': (0.1114,), 'occupation': (0.0016,), 'relationship': (0.0474,), 'race': (0.0,), 'sex': (0.0,), 'capital_gain': (0.0429,), 'capital_loss': (0.0119,), 'hours_per_week': (0.0406,), 'native_country': (0.0002,)}\n"
     ]
    }
   ],
   "source": [
    "information_gains_3 = {}\n",
    "\n",
    "for col in columns_333:\n",
    "    ig = IG_2(df=income_2, target='high_income', split=col)\n",
    "    information_gains_3[col] = ig\n",
    "    \n",
    "print(information_gains_3)\n"
   ]
  },
  {
   "cell_type": "code",
   "execution_count": 186,
   "metadata": {},
   "outputs": [
    {
     "name": "stdout",
     "output_type": "stream",
     "text": [
      "[(0.047,), (0.0068,), (0.0002,), (0.0035,), (0.065,), (0.1114,), (0.0016,), (0.0474,), (0.0,), (0.0,), (0.0429,), (0.0119,), (0.0406,), (0.0002,)]\n",
      "5\n",
      "marital_status (0.1114,)\n"
     ]
    }
   ],
   "source": [
    "information_gains_4 = []\n",
    "\n",
    "for col in columns_333:\n",
    "    ig = IG_2(df=income_2, target='high_income', split=col)\n",
    "    information_gains_4.append(ig)\n",
    "    \n",
    "print(information_gains_4)\n",
    "print(information_gains_4.index(max(information_gains_4)))\n",
    "max_4 = information_gains_4.index(max(information_gains_4))\n",
    "print(income_2.columns[max_4], information_gains_4[max_4])"
   ]
  },
  {
   "cell_type": "markdown",
   "metadata": {},
   "source": [
    "Determining the variable with the highest information gain, when used as the variable to split on.\n",
    "This variable will be used as the split variable."
   ]
  },
  {
   "cell_type": "code",
   "execution_count": 187,
   "metadata": {},
   "outputs": [],
   "source": [
    "def variable_highest_ig(data, target, list_variables):\n",
    "    information_gains = []\n",
    "    for col in list_variables:\n",
    "        information_gain = IG_2(df=data, target=target, split=col)\n",
    "        information_gains.append(information_gain)\n",
    "    index_max = information_gains.index(max(information_gains))\n",
    "    variable_highest_ig = list_variables[index_max]\n",
    "    return variable_highest_ig\n",
    "        "
   ]
  },
  {
   "cell_type": "code",
   "execution_count": 188,
   "metadata": {},
   "outputs": [
    {
     "name": "stdout",
     "output_type": "stream",
     "text": [
      "['age', 'workclass', 'education_num', 'marital_status', 'occupation', 'relationship', 'race', 'sex', 'hours_per_week', 'native_country']\n"
     ]
    }
   ],
   "source": [
    "columns_44 = [\"age\", \"workclass\", \"education_num\", \"marital_status\", \"occupation\", \"relationship\", \"race\", \"sex\", \"hours_per_week\", \"native_country\"]\n",
    "\n",
    "print(columns_44)"
   ]
  },
  {
   "cell_type": "code",
   "execution_count": 189,
   "metadata": {},
   "outputs": [
    {
     "name": "stdout",
     "output_type": "stream",
     "text": [
      "marital_status\n"
     ]
    }
   ],
   "source": [
    "split_variable_44 = variable_highest_ig(data= income_2, target= 'high_income', list_variables=columns_44)\n",
    "print(split_variable_44)"
   ]
  },
  {
   "cell_type": "markdown",
   "metadata": {},
   "source": [
    "The split variable based on the median with the highest information gain given high income is the target variable is\n",
    "marital status."
   ]
  },
  {
   "cell_type": "code",
   "execution_count": 190,
   "metadata": {},
   "outputs": [
    {
     "name": "stdout",
     "output_type": "stream",
     "text": [
      "[0 1]\n",
      "[' <=50K' ' >50K']\n",
      "[4 2 0 3 5 1 6]\n",
      "[' Never-married' ' Married-civ-spouse' ' Divorced'\n",
      " ' Married-spouse-absent' ' Separated' ' Married-AF-spouse' ' Widowed']\n"
     ]
    }
   ],
   "source": [
    "print(pd.unique(income_2.high_income))\n",
    "print(pd.unique(income.high_income))\n",
    "print(pd.unique(income_2.marital_status))\n",
    "print(pd.unique(income.marital_status))"
   ]
  },
  {
   "cell_type": "code",
   "execution_count": 191,
   "metadata": {},
   "outputs": [
    {
     "name": "stdout",
     "output_type": "stream",
     "text": [
      "   high_income  age  marital_status\n",
      "0            0   20               0\n",
      "1            0   60               2\n",
      "2            0   40               1\n",
      "3            1   25               1\n",
      "4            1   35               2\n",
      "5            1   55               1\n"
     ]
    }
   ],
   "source": [
    "\n",
    "    \n",
    "# Create the data set that we used in the example on the last screen\n",
    "data = pd.DataFrame([\n",
    "    [0,20,0],\n",
    "    [0,60,2],\n",
    "    [0,40,1],\n",
    "    [1,25,1],\n",
    "    [1,35,2],\n",
    "    [1,55,1]\n",
    "    ])\n",
    "# Assign column names to the data\n",
    "data.columns = [\"high_income\", \"age\", \"marital_status\"]\n",
    "\n",
    "print(data)\n",
    "# Call the function on our data to set the counters properly\n"
   ]
  },
  {
   "cell_type": "code",
   "execution_count": 192,
   "metadata": {
    "scrolled": true
   },
   "outputs": [],
   "source": [
    "data_2 = income_2.loc[0:20, [\"high_income\", \"age\",  \"sex\"]]\n"
   ]
  },
  {
   "cell_type": "code",
   "execution_count": 193,
   "metadata": {},
   "outputs": [
    {
     "name": "stdout",
     "output_type": "stream",
     "text": [
      "    high_income  age  sex\n",
      "0             0   39    1\n",
      "1             0   50    1\n",
      "2             0   38    1\n",
      "3             0   53    1\n",
      "4             0   28    0\n",
      "5             0   37    0\n",
      "6             0   49    0\n",
      "7             1   52    1\n",
      "8             1   31    0\n",
      "9             1   42    1\n",
      "10            1   37    1\n",
      "11            1   30    1\n",
      "12            0   23    0\n",
      "13            0   32    1\n",
      "14            1   40    1\n",
      "15            0   34    1\n",
      "16            0   25    1\n",
      "17            0   32    1\n",
      "18            0   38    1\n",
      "19            1   43    0\n",
      "20            1   40    1\n"
     ]
    }
   ],
   "source": [
    "print(data_2)"
   ]
  },
  {
   "cell_type": "code",
   "execution_count": 194,
   "metadata": {},
   "outputs": [
    {
     "name": "stdout",
     "output_type": "stream",
     "text": [
      "   high_income  age  marital_status\n",
      "0            0   20               0\n",
      "1            0   60               2\n",
      "2            0   40               1\n",
      "3            1   25               1\n",
      "4            1   35               2\n",
      "5            1   55               1\n"
     ]
    }
   ],
   "source": [
    "print(data)"
   ]
  },
  {
   "cell_type": "markdown",
   "metadata": {},
   "source": [
    "### Creating a decision tree"
   ]
  },
  {
   "cell_type": "code",
   "execution_count": 195,
   "metadata": {},
   "outputs": [],
   "source": [
    "\n",
    "tree = {}\n",
    "\n",
    "nodes = []\n",
    "\n",
    "def id3(data, target, columns, tree):\n",
    "    unique_targets = pd.unique(data[target])\n",
    "    \n",
    "    # Assign the number key to the node dictionary\n",
    "    nodes.append(len(nodes) + 1)\n",
    "    tree[\"number\"] = nodes[-1]\n",
    "\n",
    "    if len(unique_targets) == 1:\n",
    "    # Insert code here that assigns the \"label\" field to the node \n",
    "        if 0 in unique_targets:\n",
    "            tree[\"label\"] = 0\n",
    "        elif 1 in unique_targets:\n",
    "            tree[\"label\"] = 1\n",
    "        return\n",
    "    \n",
    "    best_column = variable_highest_ig(data, target, columns)\n",
    "    column_median = data[best_column].median()\n",
    "    \n",
    "    # Insert code here that assigns the \"column\" and \"median\" fields to the node dictionary\n",
    "        \n",
    "    tree[\"column\"] = best_column\n",
    "    tree[\"median\"] = column_median\n",
    "    \n",
    "    \n",
    "    \n",
    "    left_split = data[data[best_column] <= column_median]\n",
    "    right_split = data[data[best_column] > column_median]\n",
    "    split_dict = [[\"left\", left_split], [\"right\", right_split]]\n",
    "    \n",
    "    for name, split in split_dict:\n",
    "        tree[name] = {}\n",
    "        id3(split, target, columns, tree[name])\n",
    "\n"
   ]
  },
  {
   "cell_type": "code",
   "execution_count": 196,
   "metadata": {},
   "outputs": [],
   "source": [
    "id3(data, \"high_income\", [\"age\", \"marital_status\"], tree)"
   ]
  },
  {
   "cell_type": "code",
   "execution_count": 197,
   "metadata": {},
   "outputs": [
    {
     "name": "stdout",
     "output_type": "stream",
     "text": [
      "{'number': 1, 'column': 'age', 'median': 37.5, 'left': {'number': 2, 'column': 'age', 'median': 25.0, 'left': {'number': 3, 'column': 'age', 'median': 22.5, 'left': {'number': 4, 'label': 0}, 'right': {'number': 5, 'label': 1}}, 'right': {'number': 6, 'label': 1}}, 'right': {'number': 7, 'column': 'age', 'median': 55.0, 'left': {'number': 8, 'column': 'age', 'median': 47.5, 'left': {'number': 9, 'label': 0}, 'right': {'number': 10, 'label': 1}}, 'right': {'number': 11, 'label': 0}}}\n"
     ]
    }
   ],
   "source": [
    "print(tree)"
   ]
  },
  {
   "cell_type": "markdown",
   "metadata": {},
   "source": [
    "### Making predictions"
   ]
  },
  {
   "cell_type": "code",
   "execution_count": 198,
   "metadata": {},
   "outputs": [
    {
     "name": "stdout",
     "output_type": "stream",
     "text": [
      "0\n"
     ]
    }
   ],
   "source": [
    "def predict(tree, row):\n",
    "    if \"label\" in tree:\n",
    "        return tree[\"label\"]\n",
    "    \n",
    "    column = tree[\"column\"]\n",
    "    median = tree[\"median\"]\n",
    "    \n",
    "    if row[column] <= median:\n",
    "        return predict(tree[\"left\"], row)\n",
    "    else:\n",
    "        return predict(tree[\"right\"], row)\n",
    "\n",
    "\n",
    "print(predict(tree, data.iloc[0]))"
   ]
  },
  {
   "cell_type": "code",
   "execution_count": 199,
   "metadata": {},
   "outputs": [],
   "source": [
    "new_data = pd.DataFrame([\n",
    "    [40,0],\n",
    "    [20,2],\n",
    "    [80,1],\n",
    "    [15,1],\n",
    "    [27,2],\n",
    "    [38,1]\n",
    "    ])\n",
    "# Assign column names to the data\n",
    "new_data.columns = [\"age\", \"marital_status\"]\n",
    "\n",
    "def batch_predict(tree, df):\n",
    "    # Insert your code here\n",
    "    return df.apply(lambda X: predict(tree, X), axis=1)\n",
    "   \n",
    "\n",
    "predictions = batch_predict(tree, new_data)"
   ]
  },
  {
   "cell_type": "code",
   "execution_count": 200,
   "metadata": {},
   "outputs": [
    {
     "data": {
      "text/plain": [
       "0    0\n",
       "1    0\n",
       "2    0\n",
       "3    0\n",
       "4    1\n",
       "5    0\n",
       "dtype: int64"
      ]
     },
     "execution_count": 200,
     "metadata": {},
     "output_type": "execute_result"
    }
   ],
   "source": [
    "predictions"
   ]
  }
 ],
 "metadata": {
  "kernelspec": {
   "display_name": "Python 3",
   "language": "python",
   "name": "python3"
  },
  "language_info": {
   "codemirror_mode": {
    "name": "ipython",
    "version": 3
   },
   "file_extension": ".py",
   "mimetype": "text/x-python",
   "name": "python",
   "nbconvert_exporter": "python",
   "pygments_lexer": "ipython3",
   "version": "3.6.8"
  }
 },
 "nbformat": 4,
 "nbformat_minor": 2
}
